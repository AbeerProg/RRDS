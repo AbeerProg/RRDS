{
  "cells": [
    {
      "cell_type": "markdown",
      "metadata": {
        "id": "view-in-github",
        "colab_type": "text"
      },
      "source": [
        "<a href=\"https://colab.research.google.com/github/AbeerProg/RRDS/blob/main/CNN_RNN_LSTM.ipynb\" target=\"_parent\"><img src=\"https://colab.research.google.com/assets/colab-badge.svg\" alt=\"Open In Colab\"/></a>"
      ]
    },
    {
      "cell_type": "code",
      "source": [
        "import pandas as pd\n",
        "import numpy as np\n",
        "from sklearn.model_selection import train_test_split\n",
        "from tensorflow.keras.preprocessing.text import Tokenizer\n",
        "from tensorflow.keras.preprocessing.sequence import pad_sequences\n",
        "from tensorflow.keras.utils import to_categorical\n",
        "\n",
        "df = pd.read_excel('Final_dataset.xlsx')\n",
        "\n",
        "texts = df['review_text']\n",
        "numerical_features = df.iloc[:, 1:11].values\n",
        "labels = df['Label'].values\n",
        "\n",
        "# Handle imbalanced data\n",
        "from sklearn.utils import class_weight\n",
        "class_weights = class_weight.compute_class_weight('balanced', classes=np.unique(labels), y=labels)\n",
        "class_weights_dict = dict(enumerate(class_weights))\n",
        "\n",
        "# Tokenization and padding for text data\n",
        "max_len = 100\n",
        "vocab_size = 10000\n",
        "\n",
        "tokenizer = Tokenizer(num_words=vocab_size, oov_token=\"<OOV>\")\n",
        "tokenizer.fit_on_texts(texts)\n",
        "sequences = tokenizer.texts_to_sequences(texts)\n",
        "padded_sequences = pad_sequences(sequences, maxlen=max_len, padding='post')\n",
        "\n",
        "# Train-test split\n",
        "X_train_text, X_test_text, X_train_num, X_test_num, y_train, y_test = train_test_split(\n",
        "    padded_sequences, numerical_features, labels, test_size=0.2, random_state=42)\n",
        "\n",
        "y_train = np.array(y_train)\n",
        "y_test = np.array(y_test)\n",
        "\n"
      ],
      "metadata": {
        "id": "1G9DpK_F5EEz"
      },
      "execution_count": 1,
      "outputs": []
    },
    {
      "cell_type": "code",
      "source": [
        "from tensorflow.keras.layers import SimpleRNN\n",
        "\n",
        "def build_rnn_model(vocab_size, max_len, num_numerical_features):\n",
        "\n",
        "    text_input = Input(shape=(max_len,), name='text_input')\n",
        "    embedding = Embedding(input_dim=vocab_size, output_dim=128, input_length=max_len)(text_input)\n",
        "    rnn = SimpleRNN(128)(embedding)\n",
        "\n",
        "     num_input = Input(shape=(num_numerical_features,), name='num_input')\n",
        "\n",
        "     combined = Concatenate()([rnn, num_input])\n",
        "\n",
        "     dense = Dense(64, activation='relu')(combined)\n",
        "    output = Dense(1, activation='sigmoid')(dense)\n",
        "\n",
        "    model = Model(inputs=[text_input, num_input], outputs=output)\n",
        "    model.compile(optimizer='adam', loss='binary_crossentropy', metrics=['accuracy'])\n",
        "\n",
        "    return model\n",
        "\n",
        "# Build and compile RNN model\n",
        "rnn_model = build_rnn_model(vocab_size, max_len, X_train_num.shape[1])\n",
        "\n",
        "# Train the RNN model\n",
        "rnn_history = rnn_model.fit([X_train_text, X_train_num], y_train,\n",
        "                            validation_split=0.2, epochs=3, batch_size=32,\n",
        "                            class_weight=class_weights_dict)\n"
      ],
      "metadata": {
        "colab": {
          "base_uri": "https://localhost:8080/"
        },
        "id": "bYE3DL-k5ZA0",
        "outputId": "f8e4e0ae-6d8a-4566-926f-24e8c8d85b09"
      },
      "execution_count": 3,
      "outputs": [
        {
          "output_type": "stream",
          "name": "stdout",
          "text": [
            "Epoch 1/3\n",
            "\u001b[1m430/430\u001b[0m \u001b[32m━━━━━━━━━━━━━━━━━━━━\u001b[0m\u001b[37m\u001b[0m \u001b[1m14s\u001b[0m 28ms/step - accuracy: 0.6760 - loss: 0.6241 - val_accuracy: 0.7465 - val_loss: 0.5123\n",
            "Epoch 2/3\n",
            "\u001b[1m430/430\u001b[0m \u001b[32m━━━━━━━━━━━━━━━━━━━━\u001b[0m\u001b[37m\u001b[0m \u001b[1m12s\u001b[0m 28ms/step - accuracy: 0.7647 - loss: 0.4792 - val_accuracy: 0.7712 - val_loss: 0.5040\n",
            "Epoch 3/3\n",
            "\u001b[1m430/430\u001b[0m \u001b[32m━━━━━━━━━━━━━━━━━━━━\u001b[0m\u001b[37m\u001b[0m \u001b[1m12s\u001b[0m 28ms/step - accuracy: 0.7811 - loss: 0.4664 - val_accuracy: 0.7710 - val_loss: 0.4582\n"
          ]
        }
      ]
    },
    {
      "cell_type": "markdown",
      "source": [],
      "metadata": {
        "id": "cV2vNqbM5em8"
      }
    },
    {
      "cell_type": "code",
      "source": [
        "import pandas as pd\n",
        "import numpy as np\n",
        "from sklearn.model_selection import train_test_split\n",
        "from sklearn.preprocessing import StandardScaler\n",
        "from tensorflow.keras.preprocessing.text import Tokenizer\n",
        "from tensorflow.keras.preprocessing.sequence import pad_sequences\n",
        "from imblearn.over_sampling import SMOTE\n",
        "\n",
        "max_len = 100\n",
        "vocab_size = 10000  # Limit vocabulary size to 10,000\n",
        "\n",
        "tokenizer = Tokenizer(num_words=vocab_size, oov_token=\"<OOV>\")\n",
        "tokenizer.fit_on_texts(texts)\n",
        "sequences = tokenizer.texts_to_sequences(texts)\n",
        "padded_sequences = pad_sequences(sequences, maxlen=max_len, padding='post')\n",
        "\n",
        "X_train_text, X_test_text, X_train_num, X_test_num, y_train, y_test = train_test_split(\n",
        "    padded_sequences, numerical_features, labels, test_size=0.2, random_state=42)\n",
        "\n",
        "smote = SMOTE(random_state=42)\n",
        "X_train_combined, y_train = smote.fit_resample(np.hstack((X_train_text, X_train_num)), y_train)\n",
        "\n",
        "X_train_text = X_train_combined[:, :max_len]\n",
        "X_train_num = X_train_combined[:, max_len:]\n",
        "\n",
        "scaler = StandardScaler()\n",
        "X_train_num = scaler.fit_transform(X_train_num)\n",
        "X_test_num = scaler.transform(X_test_num)\n"
      ],
      "metadata": {
        "id": "9lVxfXZIElLa"
      },
      "execution_count": 1,
      "outputs": []
    },
    {
      "cell_type": "code",
      "source": [
        "from tensorflow.keras.models import Model\n",
        "from tensorflow.keras.layers import Conv1D, MaxPooling1D, GlobalMaxPooling1D, Dense, Input, Concatenate\n",
        "from tensorflow.keras.models import Model\n",
        "from tensorflow.keras.layers import Embedding, Conv1D, MaxPooling1D, GlobalMaxPooling1D, Dense, Input, Concatenate, SimpleRNN, LSTM\n",
        "\n",
        "\n",
        "def build_cnn_model(vocab_size, max_len, num_numerical_features):\n",
        "    # Text input branch\n",
        "    text_input = Input(shape=(max_len,), name='text_input')\n",
        "    embedding = Embedding(input_dim=vocab_size, output_dim=128, input_length=max_len)(text_input)\n",
        "    conv = Conv1D(128, 5, activation='relu')(embedding)\n",
        "    pool = MaxPooling1D(pool_size=2)(conv)\n",
        "    text_output = GlobalMaxPooling1D()(pool)\n",
        "\n",
        "    # Numerical input branch\n",
        "    num_input = Input(shape=(num_numerical_features,), name='num_input')\n",
        "\n",
        "    # Combine text and numerical branches\n",
        "    combined = Concatenate()([text_output, num_input])\n",
        "\n",
        "    # Dense layers for final classification\n",
        "    dense = Dense(64, activation='relu')(combined)\n",
        "    output = Dense(1, activation='sigmoid')(dense)\n",
        "\n",
        "    model = Model(inputs=[text_input, num_input], outputs=output)\n",
        "    model.compile(optimizer='adam', loss='binary_crossentropy', metrics=['accuracy'])\n",
        "\n",
        "    return model\n",
        "\n",
        "# Build and train CNN model\n",
        "cnn_model = build_cnn_model(vocab_size, max_len, X_train_num.shape[1])\n",
        "cnn_history = cnn_model.fit([X_train_text, X_train_num], y_train, validation_split=0.2, epochs=10, batch_size=32)\n",
        "\n",
        "# Evaluate the CNN model\n",
        "cnn_loss, cnn_accuracy = cnn_model.evaluate([X_test_text, X_test_num], y_test)\n",
        "print(f\"CNN Test Accuracy: {cnn_accuracy:.4f}\")\n"
      ],
      "metadata": {
        "colab": {
          "base_uri": "https://localhost:8080/"
        },
        "id": "vb3TG6JrEu-o",
        "outputId": "33a2605c-cbfb-4a81-817d-a8e03e4d0e7a"
      },
      "execution_count": 3,
      "outputs": [
        {
          "output_type": "stream",
          "name": "stderr",
          "text": [
            "/usr/local/lib/python3.10/dist-packages/keras/src/layers/core/embedding.py:90: UserWarning: Argument `input_length` is deprecated. Just remove it.\n",
            "  warnings.warn(\n"
          ]
        },
        {
          "output_type": "stream",
          "name": "stdout",
          "text": [
            "Epoch 1/10\n",
            "\u001b[1m505/505\u001b[0m \u001b[32m━━━━━━━━━━━━━━━━━━━━\u001b[0m\u001b[37m\u001b[0m \u001b[1m10s\u001b[0m 16ms/step - accuracy: 0.8155 - loss: 0.4159 - val_accuracy: 0.8088 - val_loss: 0.3998\n",
            "Epoch 2/10\n",
            "\u001b[1m505/505\u001b[0m \u001b[32m━━━━━━━━━━━━━━━━━━━━\u001b[0m\u001b[37m\u001b[0m \u001b[1m8s\u001b[0m 16ms/step - accuracy: 0.8925 - loss: 0.2591 - val_accuracy: 0.7820 - val_loss: 0.4732\n",
            "Epoch 3/10\n",
            "\u001b[1m505/505\u001b[0m \u001b[32m━━━━━━━━━━━━━━━━━━━━\u001b[0m\u001b[37m\u001b[0m \u001b[1m8s\u001b[0m 16ms/step - accuracy: 0.9573 - loss: 0.1301 - val_accuracy: 0.7922 - val_loss: 0.5158\n",
            "Epoch 4/10\n",
            "\u001b[1m505/505\u001b[0m \u001b[32m━━━━━━━━━━━━━━━━━━━━\u001b[0m\u001b[37m\u001b[0m \u001b[1m8s\u001b[0m 16ms/step - accuracy: 0.9888 - loss: 0.0420 - val_accuracy: 0.7813 - val_loss: 0.6602\n",
            "Epoch 5/10\n",
            "\u001b[1m505/505\u001b[0m \u001b[32m━━━━━━━━━━━━━━━━━━━━\u001b[0m\u001b[37m\u001b[0m \u001b[1m9s\u001b[0m 17ms/step - accuracy: 0.9957 - loss: 0.0169 - val_accuracy: 0.8216 - val_loss: 0.5927\n",
            "Epoch 6/10\n",
            "\u001b[1m505/505\u001b[0m \u001b[32m━━━━━━━━━━━━━━━━━━━━\u001b[0m\u001b[37m\u001b[0m \u001b[1m8s\u001b[0m 16ms/step - accuracy: 0.9969 - loss: 0.0097 - val_accuracy: 0.7805 - val_loss: 0.8553\n",
            "Epoch 7/10\n",
            "\u001b[1m505/505\u001b[0m \u001b[32m━━━━━━━━━━━━━━━━━━━━\u001b[0m\u001b[37m\u001b[0m \u001b[1m8s\u001b[0m 16ms/step - accuracy: 0.9983 - loss: 0.0064 - val_accuracy: 0.7570 - val_loss: 1.0280\n",
            "Epoch 8/10\n",
            "\u001b[1m505/505\u001b[0m \u001b[32m━━━━━━━━━━━━━━━━━━━━\u001b[0m\u001b[37m\u001b[0m \u001b[1m8s\u001b[0m 16ms/step - accuracy: 0.9980 - loss: 0.0064 - val_accuracy: 0.7359 - val_loss: 1.2744\n",
            "Epoch 9/10\n",
            "\u001b[1m505/505\u001b[0m \u001b[32m━━━━━━━━━━━━━━━━━━━━\u001b[0m\u001b[37m\u001b[0m \u001b[1m8s\u001b[0m 16ms/step - accuracy: 0.9985 - loss: 0.0059 - val_accuracy: 0.7612 - val_loss: 1.1598\n",
            "Epoch 10/10\n",
            "\u001b[1m505/505\u001b[0m \u001b[32m━━━━━━━━━━━━━━━━━━━━\u001b[0m\u001b[37m\u001b[0m \u001b[1m8s\u001b[0m 16ms/step - accuracy: 0.9947 - loss: 0.0177 - val_accuracy: 0.7810 - val_loss: 1.0712\n",
            "\u001b[1m135/135\u001b[0m \u001b[32m━━━━━━━━━━━━━━━━━━━━\u001b[0m\u001b[37m\u001b[0m \u001b[1m1s\u001b[0m 5ms/step - accuracy: 0.8372 - loss: 0.7783\n",
            "CNN Test Accuracy: 0.8389\n"
          ]
        }
      ]
    },
    {
      "cell_type": "code",
      "source": [
        "from tensorflow.keras.layers import SimpleRNN, LSTM\n",
        "from tensorflow.keras.models import Model\n",
        "from tensorflow.keras.layers import Conv1D, MaxPooling1D, GlobalMaxPooling1D, Dense, Input, Concatenate\n",
        "\n",
        "def build_cnn_model(vocab_size, max_len, num_numerical_features):\n",
        "\n",
        "     text_input = Input(shape=(max_len,), name='text_input')\n",
        "    embedding = Embedding(input_dim=vocab_size, output_dim=128, input_length=max_len)(text_input)\n",
        "    conv = Conv1D(128, 5, activation='relu')(embedding)\n",
        "    pool = MaxPooling1D(pool_size=2)(conv)\n",
        "    text_output = GlobalMaxPooling1D()(pool)\n",
        "\n",
        "    num_input = Input(shape=(num_numerical_features,), name='num_input')\n",
        "\n",
        "    combined = Concatenate()([text_output, num_input])\n",
        "\n",
        "    dense = Dense(64, activation='relu')(combined)\n",
        "    output = Dense(1, activation='sigmoid')(dense)\n",
        "\n",
        "    model = Model(inputs=[text_input, num_input], outputs=output)\n",
        "    model.compile(optimizer='adam', loss='binary_crossentropy', metrics=['accuracy'])\n",
        "\n",
        "    return model\n",
        "\n",
        "# Build and train CNN model\n",
        "cnn_model = build_cnn_model(vocab_size, max_len, X_train_num.shape[1])\n",
        "cnn_history = cnn_model.fit([X_train_text, X_train_num], y_train, validation_split=0.2, epochs=10, batch_size=32)\n",
        "\n",
        "# Evaluate the CNN model\n",
        "cnn_loss, cnn_accuracy = cnn_model.evaluate([X_test_text, X_test_num], y_test)\n",
        "print(f\"CNN Test Accuracy: {cnn_accuracy:.4f}\")\n"
      ],
      "metadata": {
        "colab": {
          "base_uri": "https://localhost:8080/"
        },
        "id": "S6h8zY_dFTNT",
        "outputId": "a65e980a-046c-466b-e9c3-8cf2be9732e0"
      },
      "execution_count": 5,
      "outputs": [
        {
          "output_type": "stream",
          "name": "stdout",
          "text": [
            "Epoch 1/10\n",
            "\u001b[1m505/505\u001b[0m \u001b[32m━━━━━━━━━━━━━━━━━━━━\u001b[0m\u001b[37m\u001b[0m \u001b[1m9s\u001b[0m 16ms/step - accuracy: 0.8168 - loss: 0.4161 - val_accuracy: 0.8311 - val_loss: 0.3763\n",
            "Epoch 2/10\n",
            "\u001b[1m505/505\u001b[0m \u001b[32m━━━━━━━━━━━━━━━━━━━━\u001b[0m\u001b[37m\u001b[0m \u001b[1m8s\u001b[0m 16ms/step - accuracy: 0.8905 - loss: 0.2668 - val_accuracy: 0.8283 - val_loss: 0.3833\n",
            "Epoch 3/10\n",
            "\u001b[1m505/505\u001b[0m \u001b[32m━━━━━━━━━━━━━━━━━━━━\u001b[0m\u001b[37m\u001b[0m \u001b[1m8s\u001b[0m 16ms/step - accuracy: 0.9546 - loss: 0.1338 - val_accuracy: 0.7813 - val_loss: 0.5456\n",
            "Epoch 4/10\n",
            "\u001b[1m505/505\u001b[0m \u001b[32m━━━━━━━━━━━━━━━━━━━━\u001b[0m\u001b[37m\u001b[0m \u001b[1m8s\u001b[0m 16ms/step - accuracy: 0.9885 - loss: 0.0432 - val_accuracy: 0.7325 - val_loss: 0.8864\n",
            "Epoch 5/10\n",
            "\u001b[1m505/505\u001b[0m \u001b[32m━━━━━━━━━━━━━━━━━━━━\u001b[0m\u001b[37m\u001b[0m \u001b[1m8s\u001b[0m 16ms/step - accuracy: 0.9947 - loss: 0.0187 - val_accuracy: 0.8088 - val_loss: 0.6479\n",
            "Epoch 6/10\n",
            "\u001b[1m505/505\u001b[0m \u001b[32m━━━━━━━━━━━━━━━━━━━━\u001b[0m\u001b[37m\u001b[0m \u001b[1m8s\u001b[0m 16ms/step - accuracy: 0.9985 - loss: 0.0069 - val_accuracy: 0.7595 - val_loss: 0.9726\n",
            "Epoch 7/10\n",
            "\u001b[1m505/505\u001b[0m \u001b[32m━━━━━━━━━━━━━━━━━━━━\u001b[0m\u001b[37m\u001b[0m \u001b[1m8s\u001b[0m 16ms/step - accuracy: 0.9978 - loss: 0.0078 - val_accuracy: 0.7570 - val_loss: 1.0276\n",
            "Epoch 8/10\n",
            "\u001b[1m505/505\u001b[0m \u001b[32m━━━━━━━━━━━━━━━━━━━━\u001b[0m\u001b[37m\u001b[0m \u001b[1m8s\u001b[0m 16ms/step - accuracy: 0.9981 - loss: 0.0048 - val_accuracy: 0.7733 - val_loss: 1.0017\n",
            "Epoch 9/10\n",
            "\u001b[1m505/505\u001b[0m \u001b[32m━━━━━━━━━━━━━━━━━━━━\u001b[0m\u001b[37m\u001b[0m \u001b[1m8s\u001b[0m 16ms/step - accuracy: 0.9988 - loss: 0.0042 - val_accuracy: 0.7620 - val_loss: 1.1423\n",
            "Epoch 10/10\n",
            "\u001b[1m505/505\u001b[0m \u001b[32m━━━━━━━━━━━━━━━━━━━━\u001b[0m\u001b[37m\u001b[0m \u001b[1m8s\u001b[0m 16ms/step - accuracy: 0.9990 - loss: 0.0036 - val_accuracy: 0.7020 - val_loss: 1.6892\n",
            "\u001b[1m135/135\u001b[0m \u001b[32m━━━━━━━━━━━━━━━━━━━━\u001b[0m\u001b[37m\u001b[0m \u001b[1m1s\u001b[0m 5ms/step - accuracy: 0.8388 - loss: 0.8841\n",
            "CNN Test Accuracy: 0.8354\n"
          ]
        }
      ]
    },
    {
      "cell_type": "code",
      "source": [
        "from tensorflow.keras.layers import SimpleRNN, LSTM\n",
        "from tensorflow.keras.layers import SimpleRNN\n",
        "\n",
        "def build_rnn_model(vocab_size, max_len, num_numerical_features):\n",
        "\n",
        "     text_input = Input(shape=(max_len,), name='text_input')\n",
        "    embedding = Embedding(input_dim=vocab_size, output_dim=128, input_length=max_len)(text_input)\n",
        "    rnn = SimpleRNN(128)(embedding)\n",
        "\n",
        "    num_input = Input(shape=(num_numerical_features,), name='num_input')\n",
        "\n",
        "    combined = Concatenate()([rnn, num_input])\n",
        "\n",
        "    dense = Dense(64, activation='relu')(combined)\n",
        "    output = Dense(1, activation='sigmoid')(dense)\n",
        "\n",
        "    model = Model(inputs=[text_input, num_input], outputs=output)\n",
        "    model.compile(optimizer='adam', loss='binary_crossentropy', metrics=['accuracy'])\n",
        "\n",
        "    return model\n",
        "\n",
        "# Build and train RNN model\n",
        "rnn_model = build_rnn_model(vocab_size, max_len, X_train_num.shape[1])\n",
        "rnn_history = rnn_model.fit([X_train_text, X_train_num], y_train, validation_split=0.2, epochs=10, batch_size=32)\n",
        "\n",
        "# Evaluate the RNN model\n",
        "rnn_loss, rnn_accuracy = rnn_model.evaluate([X_test_text, X_test_num], y_test)\n",
        "print(f\"RNN Test Accuracy: {rnn_accuracy:.4f}\")\n"
      ],
      "metadata": {
        "colab": {
          "base_uri": "https://localhost:8080/"
        },
        "id": "aMe2QAqAFvwd",
        "outputId": "6f78770d-c5b6-4091-cfbc-2d022575b948"
      },
      "execution_count": 6,
      "outputs": [
        {
          "output_type": "stream",
          "name": "stdout",
          "text": [
            "Epoch 1/10\n",
            "\u001b[1m505/505\u001b[0m \u001b[32m━━━━━━━━━━━━━━━━━━━━\u001b[0m\u001b[37m\u001b[0m \u001b[1m17s\u001b[0m 29ms/step - accuracy: 0.7796 - loss: 0.4675 - val_accuracy: 0.8462 - val_loss: 0.3607\n",
            "Epoch 2/10\n",
            "\u001b[1m505/505\u001b[0m \u001b[32m━━━━━━━━━━━━━━━━━━━━\u001b[0m\u001b[37m\u001b[0m \u001b[1m15s\u001b[0m 29ms/step - accuracy: 0.8410 - loss: 0.3565 - val_accuracy: 0.8395 - val_loss: 0.3680\n",
            "Epoch 3/10\n",
            "\u001b[1m505/505\u001b[0m \u001b[32m━━━━━━━━━━━━━━━━━━━━\u001b[0m\u001b[37m\u001b[0m \u001b[1m15s\u001b[0m 29ms/step - accuracy: 0.8452 - loss: 0.3432 - val_accuracy: 0.8534 - val_loss: 0.3359\n",
            "Epoch 4/10\n",
            "\u001b[1m505/505\u001b[0m \u001b[32m━━━━━━━━━━━━━━━━━━━━\u001b[0m\u001b[37m\u001b[0m \u001b[1m15s\u001b[0m 29ms/step - accuracy: 0.8533 - loss: 0.3219 - val_accuracy: 0.8432 - val_loss: 0.3367\n",
            "Epoch 5/10\n",
            "\u001b[1m505/505\u001b[0m \u001b[32m━━━━━━━━━━━━━━━━━━━━\u001b[0m\u001b[37m\u001b[0m \u001b[1m14s\u001b[0m 29ms/step - accuracy: 0.8616 - loss: 0.3074 - val_accuracy: 0.8851 - val_loss: 0.2660\n",
            "Epoch 6/10\n",
            "\u001b[1m505/505\u001b[0m \u001b[32m━━━━━━━━━━━━━━━━━━━━\u001b[0m\u001b[37m\u001b[0m \u001b[1m15s\u001b[0m 29ms/step - accuracy: 0.8697 - loss: 0.2916 - val_accuracy: 0.8806 - val_loss: 0.2762\n",
            "Epoch 7/10\n",
            "\u001b[1m505/505\u001b[0m \u001b[32m━━━━━━━━━━━━━━━━━━━━\u001b[0m\u001b[37m\u001b[0m \u001b[1m15s\u001b[0m 29ms/step - accuracy: 0.8833 - loss: 0.2700 - val_accuracy: 0.8462 - val_loss: 0.3256\n",
            "Epoch 8/10\n",
            "\u001b[1m505/505\u001b[0m \u001b[32m━━━━━━━━━━━━━━━━━━━━\u001b[0m\u001b[37m\u001b[0m \u001b[1m15s\u001b[0m 29ms/step - accuracy: 0.8825 - loss: 0.2637 - val_accuracy: 0.8566 - val_loss: 0.3186\n",
            "Epoch 9/10\n",
            "\u001b[1m505/505\u001b[0m \u001b[32m━━━━━━━━━━━━━━━━━━━━\u001b[0m\u001b[37m\u001b[0m \u001b[1m14s\u001b[0m 29ms/step - accuracy: 0.8818 - loss: 0.2620 - val_accuracy: 0.8786 - val_loss: 0.2719\n",
            "Epoch 10/10\n",
            "\u001b[1m505/505\u001b[0m \u001b[32m━━━━━━━━━━━━━━━━━━━━\u001b[0m\u001b[37m\u001b[0m \u001b[1m15s\u001b[0m 29ms/step - accuracy: 0.8888 - loss: 0.2535 - val_accuracy: 0.8749 - val_loss: 0.2779\n",
            "\u001b[1m135/135\u001b[0m \u001b[32m━━━━━━━━━━━━━━━━━━━━\u001b[0m\u001b[37m\u001b[0m \u001b[1m2s\u001b[0m 10ms/step - accuracy: 0.8858 - loss: 0.2567\n",
            "RNN Test Accuracy: 0.8887\n"
          ]
        }
      ]
    },
    {
      "cell_type": "code",
      "source": [
        "from tensorflow.keras.layers import LSTM\n",
        "\n",
        "def build_lstm_model(vocab_size, max_len, num_numerical_features):\n",
        "\n",
        "    text_input = Input(shape=(max_len,), name='text_input')\n",
        "    embedding = Embedding(input_dim=vocab_size, output_dim=128, input_length=max_len)(text_input)\n",
        "    lstm = LSTM(128)(embedding)\n",
        "\n",
        "    num_input = Input(shape=(num_numerical_features,), name='num_input')\n",
        "\n",
        "    combined = Concatenate()([lstm, num_input])\n",
        "\n",
        "    dense = Dense(64, activation='relu')(combined)\n",
        "    output = Dense(1, activation='sigmoid')(dense)\n",
        "\n",
        "    model = Model(inputs=[text_input, num_input], outputs=output)\n",
        "    model.compile(optimizer='adam', loss='binary_crossentropy', metrics=['accuracy'])\n",
        "\n",
        "    return model\n",
        "\n",
        "# Build and train LSTM model\n",
        "lstm_model = build_lstm_model(vocab_size, max_len, X_train_num.shape[1])\n",
        "lstm_history = lstm_model.fit([X_train_text, X_train_num], y_train, validation_split=0.2, epochs=10, batch_size=32)\n",
        "\n",
        "# Evaluate the LSTM model\n",
        "lstm_loss, lstm_accuracy = lstm_model.evaluate([X_test_text, X_test_num], y_test)\n",
        "print(f\"LSTM Test Accuracy: {lstm_accuracy:.4f}\")\n"
      ],
      "metadata": {
        "colab": {
          "base_uri": "https://localhost:8080/"
        },
        "id": "G4J5OvlvHxib",
        "outputId": "6bb7610a-3643-4b45-f0ae-ccb441f823ab"
      },
      "execution_count": 8,
      "outputs": [
        {
          "output_type": "stream",
          "name": "stdout",
          "text": [
            "Epoch 1/10\n"
          ]
        },
        {
          "output_type": "stream",
          "name": "stderr",
          "text": [
            "/usr/local/lib/python3.10/dist-packages/keras/src/layers/core/embedding.py:90: UserWarning: Argument `input_length` is deprecated. Just remove it.\n",
            "  warnings.warn(\n"
          ]
        },
        {
          "output_type": "stream",
          "name": "stdout",
          "text": [
            "\u001b[1m505/505\u001b[0m \u001b[32m━━━━━━━━━━━━━━━━━━━━\u001b[0m\u001b[37m\u001b[0m \u001b[1m49s\u001b[0m 93ms/step - accuracy: 0.7965 - loss: 0.4404 - val_accuracy: 0.8459 - val_loss: 0.3477\n",
            "Epoch 2/10\n",
            "\u001b[1m505/505\u001b[0m \u001b[32m━━━━━━━━━━━━━━━━━━━━\u001b[0m\u001b[37m\u001b[0m \u001b[1m47s\u001b[0m 92ms/step - accuracy: 0.8587 - loss: 0.3196 - val_accuracy: 0.8791 - val_loss: 0.2859\n",
            "Epoch 3/10\n",
            "\u001b[1m505/505\u001b[0m \u001b[32m━━━━━━━━━━━━━━━━━━━━\u001b[0m\u001b[37m\u001b[0m \u001b[1m46s\u001b[0m 92ms/step - accuracy: 0.8773 - loss: 0.2802 - val_accuracy: 0.8551 - val_loss: 0.3246\n",
            "Epoch 4/10\n",
            "\u001b[1m505/505\u001b[0m \u001b[32m━━━━━━━━━━━━━━━━━━━━\u001b[0m\u001b[37m\u001b[0m \u001b[1m48s\u001b[0m 96ms/step - accuracy: 0.8913 - loss: 0.2563 - val_accuracy: 0.8764 - val_loss: 0.2852\n",
            "Epoch 5/10\n",
            "\u001b[1m505/505\u001b[0m \u001b[32m━━━━━━━━━━━━━━━━━━━━\u001b[0m\u001b[37m\u001b[0m \u001b[1m48s\u001b[0m 95ms/step - accuracy: 0.8955 - loss: 0.2461 - val_accuracy: 0.8675 - val_loss: 0.2990\n",
            "Epoch 6/10\n",
            "\u001b[1m505/505\u001b[0m \u001b[32m━━━━━━━━━━━━━━━━━━━━\u001b[0m\u001b[37m\u001b[0m \u001b[1m47s\u001b[0m 93ms/step - accuracy: 0.8963 - loss: 0.2408 - val_accuracy: 0.8987 - val_loss: 0.2429\n",
            "Epoch 7/10\n",
            "\u001b[1m505/505\u001b[0m \u001b[32m━━━━━━━━━━━━━━━━━━━━\u001b[0m\u001b[37m\u001b[0m \u001b[1m47s\u001b[0m 92ms/step - accuracy: 0.9032 - loss: 0.2291 - val_accuracy: 0.8890 - val_loss: 0.2708\n",
            "Epoch 8/10\n",
            "\u001b[1m505/505\u001b[0m \u001b[32m━━━━━━━━━━━━━━━━━━━━\u001b[0m\u001b[37m\u001b[0m \u001b[1m47s\u001b[0m 93ms/step - accuracy: 0.9028 - loss: 0.2244 - val_accuracy: 0.8875 - val_loss: 0.2692\n",
            "Epoch 9/10\n",
            "\u001b[1m505/505\u001b[0m \u001b[32m━━━━━━━━━━━━━━━━━━━━\u001b[0m\u001b[37m\u001b[0m \u001b[1m47s\u001b[0m 93ms/step - accuracy: 0.9043 - loss: 0.2240 - val_accuracy: 0.8858 - val_loss: 0.2754\n",
            "Epoch 10/10\n",
            "\u001b[1m505/505\u001b[0m \u001b[32m━━━━━━━━━━━━━━━━━━━━\u001b[0m\u001b[37m\u001b[0m \u001b[1m47s\u001b[0m 93ms/step - accuracy: 0.9077 - loss: 0.2127 - val_accuracy: 0.8816 - val_loss: 0.2844\n",
            "\u001b[1m135/135\u001b[0m \u001b[32m━━━━━━━━━━━━━━━━━━━━\u001b[0m\u001b[37m\u001b[0m \u001b[1m5s\u001b[0m 33ms/step - accuracy: 0.9000 - loss: 0.2652\n",
            "LSTM Test Accuracy: 0.9036\n"
          ]
        }
      ]
    },
    {
      "cell_type": "code",
      "source": [
        "from sklearn.metrics import classification_report, roc_auc_score, accuracy_score\n",
        "\n",
        " cnn_predictions = cnn_model.predict([X_test_text, X_test_num])\n",
        "cnn_predictions = (cnn_predictions > 0.5).astype(int)\n",
        "\n",
        "rnn_predictions = rnn_model.predict([X_test_text, X_test_num])\n",
        "rnn_predictions = (rnn_predictions > 0.5).astype(int)\n",
        "\n",
        "lstm_predictions = lstm_model.predict([X_test_text, X_test_num])\n",
        "lstm_predictions = (lstm_predictions > 0.5).astype(int)\n",
        "\n",
        "# Accuracy\n",
        "cnn_accuracy = accuracy_score(y_test, cnn_predictions)\n",
        "rnn_accuracy = accuracy_score(y_test, rnn_predictions)\n",
        "lstm_accuracy = accuracy_score(y_test, lstm_predictions)\n",
        "\n",
        "# Classification Reports\n",
        "print(\"CNN Classification Report:\\n\", classification_report(y_test, cnn_predictions))\n",
        "print(\"RNN Classification Report:\\n\", classification_report(y_test, rnn_predictions))\n",
        "print(\"LSTM Classification Report:\\n\", classification_report(y_test, lstm_predictions))\n",
        "\n",
        "# AUC-ROC\n",
        "cnn_auc = roc_auc_score(y_test, cnn_predictions)\n",
        "rnn_auc = roc_auc_score(y_test, rnn_predictions)\n",
        "lstm_auc = roc_auc_score(y_test, lstm_predictions)\n",
        "\n",
        "# Print AUC-ROC scores\n",
        "print(f\"CNN AUC-ROC: {cnn_auc:.4f}\")\n",
        "print(f\"RNN AUC-ROC: {rnn_auc:.4f}\")\n",
        "print(f\"LSTM AUC-ROC: {lstm_auc:.4f}\")\n"
      ],
      "metadata": {
        "colab": {
          "base_uri": "https://localhost:8080/"
        },
        "id": "B59o_x_3KciN",
        "outputId": "978b1794-cbaa-4d46-8d1b-682e8362f395"
      },
      "execution_count": 9,
      "outputs": [
        {
          "output_type": "stream",
          "name": "stdout",
          "text": [
            "\u001b[1m135/135\u001b[0m \u001b[32m━━━━━━━━━━━━━━━━━━━━\u001b[0m\u001b[37m\u001b[0m \u001b[1m1s\u001b[0m 6ms/step\n",
            "\u001b[1m135/135\u001b[0m \u001b[32m━━━━━━━━━━━━━━━━━━━━\u001b[0m\u001b[37m\u001b[0m \u001b[1m2s\u001b[0m 12ms/step\n",
            "\u001b[1m135/135\u001b[0m \u001b[32m━━━━━━━━━━━━━━━━━━━━\u001b[0m\u001b[37m\u001b[0m \u001b[1m5s\u001b[0m 33ms/step\n",
            "CNN Classification Report:\n",
            "               precision    recall  f1-score   support\n",
            "\n",
            "           0       0.82      0.92      0.87      2491\n",
            "           1       0.86      0.72      0.79      1805\n",
            "\n",
            "    accuracy                           0.84      4296\n",
            "   macro avg       0.84      0.82      0.83      4296\n",
            "weighted avg       0.84      0.84      0.83      4296\n",
            "\n",
            "RNN Classification Report:\n",
            "               precision    recall  f1-score   support\n",
            "\n",
            "           0       0.90      0.91      0.90      2491\n",
            "           1       0.87      0.86      0.87      1805\n",
            "\n",
            "    accuracy                           0.89      4296\n",
            "   macro avg       0.89      0.88      0.89      4296\n",
            "weighted avg       0.89      0.89      0.89      4296\n",
            "\n",
            "LSTM Classification Report:\n",
            "               precision    recall  f1-score   support\n",
            "\n",
            "           0       0.91      0.93      0.92      2491\n",
            "           1       0.90      0.87      0.88      1805\n",
            "\n",
            "    accuracy                           0.90      4296\n",
            "   macro avg       0.90      0.90      0.90      4296\n",
            "weighted avg       0.90      0.90      0.90      4296\n",
            "\n",
            "CNN AUC-ROC: 0.8198\n",
            "RNN AUC-ROC: 0.8848\n",
            "LSTM AUC-ROC: 0.8986\n"
          ]
        }
      ]
    },
    {
      "cell_type": "code",
      "source": [
        "import pandas as pd\n",
        "\n",
        "# Store the results in a dictionary\n",
        "results = {\n",
        "    \"Model\": [\"CNN\", \"RNN\", \"LSTM\"],\n",
        "    \"Accuracy\": [cnn_accuracy, rnn_accuracy, lstm_accuracy],\n",
        "    \"AUC-ROC\": [cnn_auc, rnn_auc, lstm_auc],\n",
        "}\n",
        "\n",
        "# Create a DataFrame for better visualization\n",
        "results_df = pd.DataFrame(results)\n",
        "\n",
        "# Display the results\n",
        "print(results_df)\n"
      ],
      "metadata": {
        "colab": {
          "base_uri": "https://localhost:8080/"
        },
        "id": "hA39lvVMKmQv",
        "outputId": "80f8cefd-91f9-430e-89cb-6032d7baea9f"
      },
      "execution_count": 10,
      "outputs": [
        {
          "output_type": "stream",
          "name": "stdout",
          "text": [
            "  Model  Accuracy   AUC-ROC\n",
            "0   CNN  0.835428  0.819794\n",
            "1   RNN  0.888734  0.884831\n",
            "2  LSTM  0.903631  0.898592\n"
          ]
        }
      ]
    },
    {
      "cell_type": "code",
      "source": [
        "import matplotlib.pyplot as plt\n",
        "import seaborn as sns\n",
        "\n",
        "# Plot the comparison for Accuracy\n",
        "sns.barplot(x='Model', y='Accuracy', data=results_df)\n",
        "plt.title('Accuracy Comparison of CNN, RNN, and LSTM')\n",
        "plt.show()\n",
        "\n",
        "# Plot the comparison for AUC-ROC\n",
        "sns.barplot(x='Model', y='AUC-ROC', data=results_df)\n",
        "plt.title('AUC-ROC Comparison of CNN, RNN, and LSTM')\n",
        "plt.show()\n"
      ],
      "metadata": {
        "colab": {
          "base_uri": "https://localhost:8080/",
          "height": 927
        },
        "id": "3WOw6AR-Krvr",
        "outputId": "32718455-fd15-4691-fd09-1f85fabd7687"
      },
      "execution_count": 11,
      "outputs": [
        {
          "output_type": "display_data",
          "data": {
            "text/plain": [
              "<Figure size 640x480 with 1 Axes>"
            ],
            "image/png": "[encoded data removed]"
          },
          "metadata": {}
        },
        {
          "output_type": "display_data",
          "data": {
            "text/plain": [
              "<Figure size 640x480 with 1 Axes>"
            ],
            "image/png": "[encoded data removed]"
          },
          "metadata": {}
        }
      ]
    },
    {
      "cell_type": "code",
      "source": [
        "from sklearn.model_selection import KFold\n",
        "from sklearn.metrics import accuracy_score\n",
        "\n",
        "# Set up KFold cross-validation\n",
        "kf = KFold(n_splits=5, shuffle=True, random_state=42)\n",
        "\n",
        "cnn_accuracies = []\n",
        "rnn_accuracies = []\n",
        "lstm_accuracies = []\n",
        "\n",
        "# Perform manual cross-validation\n",
        "for train_index, test_index in kf.split(X_train_combined):\n",
        "    X_train_fold, X_test_fold = X_train_combined[train_index], X_train_combined[test_index]\n",
        "    y_train_fold, y_test_fold = y_train[train_index], y_train[test_index]\n",
        "\n",
        "    # CNN model\n",
        "    cnn_model = build_cnn_model(vocab_size, max_len, X_train_num.shape[1])\n",
        "    cnn_model.fit([X_train_fold[:, :max_len], X_train_fold[:, max_len:]], y_train_fold, epochs=5, batch_size=32, verbose=0)\n",
        "    cnn_predictions = (cnn_model.predict([X_test_fold[:, :max_len], X_test_fold[:, max_len:]]) > 0.5).astype(int)\n",
        "    cnn_accuracies.append(accuracy_score(y_test_fold, cnn_predictions))\n",
        "\n",
        "    # RNN model\n",
        "    rnn_model = build_rnn_model(vocab_size, max_len, X_train_num.shape[1])\n",
        "    rnn_model.fit([X_train_fold[:, :max_len], X_train_fold[:, max_len:]], y_train_fold, epochs=5, batch_size=32, verbose=0)\n",
        "    rnn_predictions = (rnn_model.predict([X_test_fold[:, :max_len], X_test_fold[:, max_len:]]) > 0.5).astype(int)\n",
        "    rnn_accuracies.append(accuracy_score(y_test_fold, rnn_predictions))\n",
        "\n",
        "    # LSTM model\n",
        "    lstm_model = build_lstm_model(vocab_size, max_len, X_train_num.shape[1])\n",
        "    lstm_model.fit([X_train_fold[:, :max_len], X_train_fold[:, max_len:]], y_train_fold, epochs=5, batch_size=32, verbose=0)\n",
        "    lstm_predictions = (lstm_model.predict([X_test_fold[:, :max_len], X_test_fold[:, max_len:]]) > 0.5).astype(int)\n",
        "    lstm_accuracies.append(accuracy_score(y_test_fold, lstm_predictions))\n",
        "\n",
        "# Calculate and print the average accuracy for each model\n",
        "print(f\"CNN Average Accuracy: {np.mean(cnn_accuracies):.4f}\")\n",
        "print(f\"RNN Average Accuracy: {np.mean(rnn_accuracies):.4f}\")\n",
        "print(f\"LSTM Average Accuracy: {np.mean(lstm_accuracies):.4f}\")\n"
      ],
      "metadata": {
        "colab": {
          "base_uri": "https://localhost:8080/"
        },
        "id": "kQfMrPoLKy1u",
        "outputId": "ac66f44e-4970-41eb-bd3d-a990f312806d"
      },
      "execution_count": 15,
      "outputs": [
        {
          "output_type": "stream",
          "name": "stderr",
          "text": [
            "/usr/local/lib/python3.10/dist-packages/keras/src/layers/core/embedding.py:90: UserWarning: Argument `input_length` is deprecated. Just remove it.\n",
            "  warnings.warn(\n"
          ]
        },
        {
          "output_type": "stream",
          "name": "stdout",
          "text": [
            "\u001b[1m127/127\u001b[0m \u001b[32m━━━━━━━━━━━━━━━━━━━━\u001b[0m\u001b[37m\u001b[0m \u001b[1m1s\u001b[0m 6ms/step\n"
          ]
        },
        {
          "output_type": "stream",
          "name": "stderr",
          "text": [
            "/usr/local/lib/python3.10/dist-packages/keras/src/layers/core/embedding.py:90: UserWarning: Argument `input_length` is deprecated. Just remove it.\n",
            "  warnings.warn(\n"
          ]
        },
        {
          "output_type": "stream",
          "name": "stdout",
          "text": [
            "\u001b[1m127/127\u001b[0m \u001b[32m━━━━━━━━━━━━━━━━━━━━\u001b[0m\u001b[37m\u001b[0m \u001b[1m2s\u001b[0m 12ms/step\n"
          ]
        },
        {
          "output_type": "stream",
          "name": "stderr",
          "text": [
            "/usr/local/lib/python3.10/dist-packages/keras/src/layers/core/embedding.py:90: UserWarning: Argument `input_length` is deprecated. Just remove it.\n",
            "  warnings.warn(\n"
          ]
        },
        {
          "output_type": "stream",
          "name": "stdout",
          "text": [
            "\u001b[1m127/127\u001b[0m \u001b[32m━━━━━━━━━━━━━━━━━━━━\u001b[0m\u001b[37m\u001b[0m \u001b[1m4s\u001b[0m 33ms/step\n"
          ]
        },
        {
          "output_type": "stream",
          "name": "stderr",
          "text": [
            "/usr/local/lib/python3.10/dist-packages/keras/src/layers/core/embedding.py:90: UserWarning: Argument `input_length` is deprecated. Just remove it.\n",
            "  warnings.warn(\n"
          ]
        },
        {
          "output_type": "stream",
          "name": "stdout",
          "text": [
            "\u001b[1m127/127\u001b[0m \u001b[32m━━━━━━━━━━━━━━━━━━━━\u001b[0m\u001b[37m\u001b[0m \u001b[1m1s\u001b[0m 6ms/step\n"
          ]
        },
        {
          "output_type": "stream",
          "name": "stderr",
          "text": [
            "/usr/local/lib/python3.10/dist-packages/keras/src/layers/core/embedding.py:90: UserWarning: Argument `input_length` is deprecated. Just remove it.\n",
            "  warnings.warn(\n"
          ]
        },
        {
          "output_type": "stream",
          "name": "stdout",
          "text": [
            "\u001b[1m127/127\u001b[0m \u001b[32m━━━━━━━━━━━━━━━━━━━━\u001b[0m\u001b[37m\u001b[0m \u001b[1m2s\u001b[0m 12ms/step\n"
          ]
        },
        {
          "output_type": "stream",
          "name": "stderr",
          "text": [
            "/usr/local/lib/python3.10/dist-packages/keras/src/layers/core/embedding.py:90: UserWarning: Argument `input_length` is deprecated. Just remove it.\n",
            "  warnings.warn(\n"
          ]
        },
        {
          "output_type": "stream",
          "name": "stdout",
          "text": [
            "\u001b[1m127/127\u001b[0m \u001b[32m━━━━━━━━━━━━━━━━━━━━\u001b[0m\u001b[37m\u001b[0m \u001b[1m4s\u001b[0m 34ms/step\n"
          ]
        },
        {
          "output_type": "stream",
          "name": "stderr",
          "text": [
            "/usr/local/lib/python3.10/dist-packages/keras/src/layers/core/embedding.py:90: UserWarning: Argument `input_length` is deprecated. Just remove it.\n",
            "  warnings.warn(\n"
          ]
        },
        {
          "output_type": "stream",
          "name": "stdout",
          "text": [
            "\u001b[1m127/127\u001b[0m \u001b[32m━━━━━━━━━━━━━━━━━━━━\u001b[0m\u001b[37m\u001b[0m \u001b[1m1s\u001b[0m 6ms/step\n"
          ]
        },
        {
          "output_type": "stream",
          "name": "stderr",
          "text": [
            "/usr/local/lib/python3.10/dist-packages/keras/src/layers/core/embedding.py:90: UserWarning: Argument `input_length` is deprecated. Just remove it.\n",
            "  warnings.warn(\n"
          ]
        },
        {
          "output_type": "stream",
          "name": "stdout",
          "text": [
            "\u001b[1m127/127\u001b[0m \u001b[32m━━━━━━━━━━━━━━━━━━━━\u001b[0m\u001b[37m\u001b[0m \u001b[1m2s\u001b[0m 12ms/step\n"
          ]
        },
        {
          "output_type": "stream",
          "name": "stderr",
          "text": [
            "/usr/local/lib/python3.10/dist-packages/keras/src/layers/core/embedding.py:90: UserWarning: Argument `input_length` is deprecated. Just remove it.\n",
            "  warnings.warn(\n"
          ]
        },
        {
          "output_type": "stream",
          "name": "stdout",
          "text": [
            "\u001b[1m127/127\u001b[0m \u001b[32m━━━━━━━━━━━━━━━━━━━━\u001b[0m\u001b[37m\u001b[0m \u001b[1m4s\u001b[0m 33ms/step\n"
          ]
        },
        {
          "output_type": "stream",
          "name": "stderr",
          "text": [
            "/usr/local/lib/python3.10/dist-packages/keras/src/layers/core/embedding.py:90: UserWarning: Argument `input_length` is deprecated. Just remove it.\n",
            "  warnings.warn(\n"
          ]
        },
        {
          "output_type": "stream",
          "name": "stdout",
          "text": [
            "\u001b[1m127/127\u001b[0m \u001b[32m━━━━━━━━━━━━━━━━━━━━\u001b[0m\u001b[37m\u001b[0m \u001b[1m1s\u001b[0m 6ms/step\n"
          ]
        },
        {
          "output_type": "stream",
          "name": "stderr",
          "text": [
            "/usr/local/lib/python3.10/dist-packages/keras/src/layers/core/embedding.py:90: UserWarning: Argument `input_length` is deprecated. Just remove it.\n",
            "  warnings.warn(\n"
          ]
        },
        {
          "output_type": "stream",
          "name": "stdout",
          "text": [
            "\u001b[1m127/127\u001b[0m \u001b[32m━━━━━━━━━━━━━━━━━━━━\u001b[0m\u001b[37m\u001b[0m \u001b[1m2s\u001b[0m 11ms/step\n"
          ]
        },
        {
          "output_type": "stream",
          "name": "stderr",
          "text": [
            "/usr/local/lib/python3.10/dist-packages/keras/src/layers/core/embedding.py:90: UserWarning: Argument `input_length` is deprecated. Just remove it.\n",
            "  warnings.warn(\n"
          ]
        },
        {
          "output_type": "stream",
          "name": "stdout",
          "text": [
            "\u001b[1m127/127\u001b[0m \u001b[32m━━━━━━━━━━━━━━━━━━━━\u001b[0m\u001b[37m\u001b[0m \u001b[1m4s\u001b[0m 34ms/step\n"
          ]
        },
        {
          "output_type": "stream",
          "name": "stderr",
          "text": [
            "/usr/local/lib/python3.10/dist-packages/keras/src/layers/core/embedding.py:90: UserWarning: Argument `input_length` is deprecated. Just remove it.\n",
            "  warnings.warn(\n"
          ]
        },
        {
          "output_type": "stream",
          "name": "stdout",
          "text": [
            "\u001b[1m127/127\u001b[0m \u001b[32m━━━━━━━━━━━━━━━━━━━━\u001b[0m\u001b[37m\u001b[0m \u001b[1m1s\u001b[0m 5ms/step\n"
          ]
        },
        {
          "output_type": "stream",
          "name": "stderr",
          "text": [
            "/usr/local/lib/python3.10/dist-packages/keras/src/layers/core/embedding.py:90: UserWarning: Argument `input_length` is deprecated. Just remove it.\n",
            "  warnings.warn(\n"
          ]
        },
        {
          "output_type": "stream",
          "name": "stdout",
          "text": [
            "\u001b[1m127/127\u001b[0m \u001b[32m━━━━━━━━━━━━━━━━━━━━\u001b[0m\u001b[37m\u001b[0m \u001b[1m2s\u001b[0m 12ms/step\n"
          ]
        },
        {
          "output_type": "stream",
          "name": "stderr",
          "text": [
            "/usr/local/lib/python3.10/dist-packages/keras/src/layers/core/embedding.py:90: UserWarning: Argument `input_length` is deprecated. Just remove it.\n",
            "  warnings.warn(\n"
          ]
        },
        {
          "output_type": "stream",
          "name": "stdout",
          "text": [
            "\u001b[1m127/127\u001b[0m \u001b[32m━━━━━━━━━━━━━━━━━━━━\u001b[0m\u001b[37m\u001b[0m \u001b[1m5s\u001b[0m 35ms/step\n",
            "CNN Average Accuracy: 0.8411\n",
            "RNN Average Accuracy: 0.8740\n",
            "LSTM Average Accuracy: 0.8891\n"
          ]
        }
      ]
    }
  ],
  "metadata": {
    "colab": {
      "machine_shape": "hm",
      "provenance": [],
      "authorship_tag": "ABX9TyOPvIntTBav/u5XI82WiB1L",
      "include_colab_link": true
    },
    "kernelspec": {
      "display_name": "Python 3",
      "name": "python3"
    },
    "language_info": {
      "name": "python"
    }
  },
  "nbformat": 4,
  "nbformat_minor": 0
}
