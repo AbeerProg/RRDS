{
  "nbformat": 4,
  "nbformat_minor": 0,
  "metadata": {
    "colab": {
      "provenance": [],
      "machine_shape": "hm",
      "authorship_tag": "ABX9TyMRJFYqXnGkwAQ7xbMzISum",
      "include_colab_link": true
    },
    "kernelspec": {
      "name": "python3",
      "display_name": "Python 3"
    },
    "language_info": {
      "name": "python"
    }
  },
  "cells": [
    {
      "cell_type": "markdown",
      "metadata": {
        "id": "view-in-github",
        "colab_type": "text"
      },
      "source": [
        "<a href=\"https://colab.research.google.com/github/AbeerProg/RRDS/blob/main/ReviewLength.ipynb\" target=\"_parent\"><img src=\"https://colab.research.google.com/assets/colab-badge.svg\" alt=\"Open In Colab\"/></a>"
      ]
    },
    {
      "cell_type": "code",
      "source": [
        "!pip install pandas openpyxl\n"
      ],
      "metadata": {
        "colab": {
          "base_uri": "https://localhost:8080/"
        },
        "id": "LDH0K3srGZz6",
        "outputId": "a274b8e6-54cc-43ba-837a-bae48c4b3890"
      },
      "execution_count": null,
      "outputs": [
        {
          "output_type": "stream",
          "name": "stdout",
          "text": [
            "Requirement already satisfied: pandas in /usr/local/lib/python3.10/dist-packages (2.1.4)\n",
            "Requirement already satisfied: openpyxl in /usr/local/lib/python3.10/dist-packages (3.1.5)\n",
            "Requirement already satisfied: numpy<2,>=1.22.4 in /usr/local/lib/python3.10/dist-packages (from pandas) (1.26.4)\n",
            "Requirement already satisfied: python-dateutil>=2.8.2 in /usr/local/lib/python3.10/dist-packages (from pandas) (2.8.2)\n",
            "Requirement already satisfied: pytz>=2020.1 in /usr/local/lib/python3.10/dist-packages (from pandas) (2024.1)\n",
            "Requirement already satisfied: tzdata>=2022.1 in /usr/local/lib/python3.10/dist-packages (from pandas) (2024.1)\n",
            "Requirement already satisfied: et-xmlfile in /usr/local/lib/python3.10/dist-packages (from openpyxl) (1.1.0)\n",
            "Requirement already satisfied: six>=1.5 in /usr/local/lib/python3.10/dist-packages (from python-dateutil>=2.8.2->pandas) (1.16.0)\n"
          ]
        }
      ]
    },
    {
      "cell_type": "code",
      "source": [
        "import pandas as pd\n",
        "\n",
        "# Load the Excel file (replace 'your_file.xlsx' with your actual file name)\n",
        "df = pd.read_excel('CWlast.xlsx')\n"
      ],
      "metadata": {
        "id": "B7gfSCrSGch2"
      },
      "execution_count": null,
      "outputs": []
    },
    {
      "cell_type": "code",
      "source": [
        "\n",
        "text_column = 'text'\n",
        "\n",
        "# Define a function to count words in a cell\n",
        "def count_words(text):\n",
        "    if isinstance(text, str):\n",
        "        return len(text.split())\n",
        "    else:\n",
        "        return 0  # Return 0 if the cell is empty or not a string\n",
        "\n",
        "# Apply the function to the specified column and create a new column with word counts\n",
        "df['word_count'] = df[text_column].apply(count_words)\n",
        "\n",
        "# Display the DataFrame with the new word count column\n",
        "print(df.head())\n",
        "\n",
        "# Save the result to a new Excel file\n",
        "df.to_excel('word_count_result.xlsx', index=False)\n",
        "\n",
        "print(\"Word count has been calculated and saved in 'word_count_result.xlsx'.\")\n"
      ],
      "metadata": {
        "colab": {
          "base_uri": "https://localhost:8080/"
        },
        "id": "NgtyCYfvGiZ0",
        "outputId": "5c41e176-e1c6-48d9-b86a-f363056bbbe8"
      },
      "execution_count": null,
      "outputs": [
        {
          "output_type": "stream",
          "name": "stdout",
          "text": [
            "                                                text  word_count\n",
            "0  - New spot! Just opened this week.\\n- Food is ...          65\n",
            "1  - really good smoothies. Particularly the Pita...          20\n",
            "2  !Great New York times.  You must order onion r...          12\n",
            "3                          \"FOOT LONG s..Delicious!!           3\n",
            "4  \"Hands down\" Best coffee shop in Boro Park !!\\...          14\n",
            "Word count has been calculated and saved in 'word_count_result.xlsx'.\n"
          ]
        }
      ]
    },
    {
      "cell_type": "code",
      "source": [
        "import pandas as pd\n",
        "import string\n",
        "\n",
        "# Load the Excel file (replace 'your_file.xlsx' with your actual file name)\n",
        "df = pd.read_excel('CWlast.xlsx')\n",
        "\n",
        "# Specify the column that contains the text\n",
        "text_column = 'text'  # Replace with your actual text column name\n",
        "\n",
        "# Define a function to count words in a cell after removing punctuation\n",
        "def count_words(text):\n",
        "    if isinstance(text, str):\n",
        "        # Remove punctuation\n",
        "        text = text.translate(str.maketrans('', '', string.punctuation))\n",
        "        # Split the text and count the words\n",
        "        return len(text.split())\n",
        "    else:\n",
        "        return 0  # Return 0 if the cell is empty or not a string\n",
        "\n",
        "# Apply the function to the specified column and create a new column with word counts\n",
        "df['word_count'] = df[text_column].apply(count_words)\n",
        "\n",
        "# Display the DataFrame with the new word count column\n",
        "print(df.head())\n",
        "\n",
        "# Save the result to a new Excel file\n",
        "df.to_excel('word_count_result.xlsx', index=False)\n",
        "\n",
        "print(\"Word count has been calculated and saved in 'word_count_result.xlsx'.\")\n"
      ],
      "metadata": {
        "colab": {
          "base_uri": "https://localhost:8080/"
        },
        "id": "Wk3iCt5iHIGy",
        "outputId": "312b36ad-f48d-4a5b-9665-54132ca2a6a5"
      },
      "execution_count": null,
      "outputs": [
        {
          "output_type": "stream",
          "name": "stdout",
          "text": [
            "                                                text  word_count\n",
            "0  - New spot! Just opened this week.\\n- Food is ...          59\n",
            "1  - really good smoothies. Particularly the Pita...          18\n",
            "2  !Great New York times.  You must order onion r...          12\n",
            "3                          \"FOOT LONG s..Delicious!!           3\n",
            "4  \"Hands down\" Best coffee shop in Boro Park !!\\...          12\n",
            "Word count has been calculated and saved in 'word_count_result.xlsx'.\n"
          ]
        }
      ]
    }
  ]
}