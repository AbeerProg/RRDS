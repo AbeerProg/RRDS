{
  "cells": [
    {
      "cell_type": "markdown",
      "metadata": {
        "id": "view-in-github",
        "colab_type": "text"
      },
      "source": [
        "<a href=\"https://colab.research.google.com/github/AbeerProg/RRDS/blob/main/GloVe_LSTM.ipynb\" target=\"_parent\"><img src=\"https://colab.research.google.com/assets/colab-badge.svg\" alt=\"Open In Colab\"/></a>"
      ]
    },
    {
      "cell_type": "code",
      "source": [
        "import pandas as pd\n",
        "import numpy as np\n",
        "from sklearn.model_selection import train_test_split\n",
        "from sklearn.preprocessing import StandardScaler\n",
        "from tensorflow.keras.preprocessing.text import Tokenizer\n",
        "from tensorflow.keras.preprocessing.sequence import pad_sequences\n",
        "from imblearn.over_sampling import SMOTE\n",
        "\n",
        "# Load your dataset\n",
        "df = pd.read_excel('Final_dataset.xlsx')\n",
        "\n",
        "# Preprocess text and numerical data\n",
        "texts = df['review_text']  # Replace 'review_text' with your actual text column\n",
        "numerical_features = df.iloc[:, 1:11].values  # 7 continuous + 3 boolean features\n",
        "labels = df['Label'].values  # Target variable (0 or 1)\n",
        "\n",
        "# Tokenize and pad text sequences\n",
        "max_len = 100  # You can adjust this based on your dataset\n",
        "vocab_size = 10000  # Limit vocabulary size for RAM optimization\n",
        "\n",
        "tokenizer = Tokenizer(num_words=vocab_size, oov_token=\"<OOV>\")\n",
        "tokenizer.fit_on_texts(texts)\n",
        "sequences = tokenizer.texts_to_sequences(texts)\n",
        "padded_sequences = pad_sequences(sequences, maxlen=max_len, padding='post')\n",
        "\n",
        "# Split the data into training and test sets\n",
        "X_train_text, X_test_text, X_train_num, X_test_num, y_train, y_test = train_test_split(\n",
        "    padded_sequences, numerical_features, labels, test_size=0.2, random_state=42)\n",
        "\n",
        "# Normalize numerical features\n",
        "scaler = StandardScaler()\n",
        "X_train_num = scaler.fit_transform(X_train_num)\n",
        "X_test_num = scaler.transform(X_test_num)\n"
      ],
      "metadata": {
        "id": "FORNCYxp6Bjg"
      },
      "execution_count": 3,
      "outputs": []
    },
    {
      "cell_type": "code",
      "source": [
        "from tensorflow.keras.models import Model\n",
        "from tensorflow.keras.layers import Input, Embedding, LSTM, Dense, Concatenate, Dropout\n",
        "\n",
        "# Build the LSTM model with GloVe embeddings\n",
        "def build_lstm_model(vocab_size, max_len, num_numerical_features, embedding_dim, embedding_matrix):\n",
        "    # Text input branch\n",
        "    text_input = Input(shape=(max_len,), name='text_input')\n",
        "    embedding_layer = Embedding(input_dim=vocab_size, output_dim=embedding_dim,\n",
        "                                weights=[embedding_matrix], input_length=max_len, trainable=False)(text_input)\n",
        "    lstm_layer = LSTM(128)(embedding_layer)\n",
        "\n",
        "    # Numerical input branch\n",
        "    num_input = Input(shape=(num_numerical_features,), name='num_input')\n",
        "\n",
        "    # Combine the text and numerical branches\n",
        "    combined = Concatenate()([lstm_layer, num_input])\n",
        "\n",
        "    # Dense layers for final classification\n",
        "    dense = Dense(64, activation='relu')(combined)\n",
        "    dropout = Dropout(0.5)(dense)\n",
        "    output = Dense(1, activation='sigmoid')(dropout)\n",
        "\n",
        "    model = Model(inputs=[text_input, num_input], outputs=output)\n",
        "    model.compile(optimizer='adam', loss='binary_crossentropy', metrics=['accuracy'])\n",
        "\n",
        "    return model\n",
        "\n",
        "# Build and compile the LSTM model\n",
        "lstm_model = build_lstm_model(vocab_size, max_len, X_train_num.shape[1], embedding_dim, embedding_matrix)\n",
        "\n",
        "# Train the model\n",
        "lstm_history = lstm_model.fit([X_train_text, X_train_num], y_train, validation_split=0.2, epochs=10, batch_size=32)\n",
        "\n",
        "# Evaluate the model on the test set\n",
        "lstm_loss, lstm_accuracy = lstm_model.evaluate([X_test_text, X_test_num], y_test)\n",
        "print(f\"LSTM Test Accuracy: {lstm_accuracy:.4f}\")\n"
      ],
      "metadata": {
        "colab": {
          "base_uri": "https://localhost:8080/"
        },
        "id": "AxzA0N0h6PJI",
        "outputId": "e54e1cd6-01ea-42bd-96d7-89e478d84384"
      },
      "execution_count": 5,
      "outputs": [
        {
          "output_type": "stream",
          "name": "stdout",
          "text": [
            "Epoch 1/10\n"
          ]
        },
        {
          "output_type": "stream",
          "name": "stderr",
          "text": [
            "/usr/local/lib/python3.10/dist-packages/keras/src/layers/core/embedding.py:90: UserWarning: Argument `input_length` is deprecated. Just remove it.\n",
            "  warnings.warn(\n"
          ]
        },
        {
          "output_type": "stream",
          "name": "stdout",
          "text": [
            "\u001b[1m505/505\u001b[0m \u001b[32m━━━━━━━━━━━━━━━━━━━━\u001b[0m\u001b[37m\u001b[0m \u001b[1m37s\u001b[0m 69ms/step - accuracy: 0.7690 - loss: 0.4876 - val_accuracy: 0.8752 - val_loss: 0.3081\n",
            "Epoch 2/10\n",
            "\u001b[1m505/505\u001b[0m \u001b[32m━━━━━━━━━━━━━━━━━━━━\u001b[0m\u001b[37m\u001b[0m \u001b[1m35s\u001b[0m 69ms/step - accuracy: 0.8479 - loss: 0.3422 - val_accuracy: 0.8650 - val_loss: 0.3054\n",
            "Epoch 3/10\n",
            "\u001b[1m505/505\u001b[0m \u001b[32m━━━━━━━━━━━━━━━━━━━━\u001b[0m\u001b[37m\u001b[0m \u001b[1m34s\u001b[0m 68ms/step - accuracy: 0.8587 - loss: 0.3263 - val_accuracy: 0.8838 - val_loss: 0.2799\n",
            "Epoch 4/10\n",
            "\u001b[1m505/505\u001b[0m \u001b[32m━━━━━━━━━━━━━━━━━━━━\u001b[0m\u001b[37m\u001b[0m \u001b[1m34s\u001b[0m 68ms/step - accuracy: 0.8634 - loss: 0.3157 - val_accuracy: 0.8861 - val_loss: 0.2761\n",
            "Epoch 5/10\n",
            "\u001b[1m505/505\u001b[0m \u001b[32m━━━━━━━━━━━━━━━━━━━━\u001b[0m\u001b[37m\u001b[0m \u001b[1m34s\u001b[0m 68ms/step - accuracy: 0.8690 - loss: 0.2968 - val_accuracy: 0.8848 - val_loss: 0.2720\n",
            "Epoch 6/10\n",
            "\u001b[1m505/505\u001b[0m \u001b[32m━━━━━━━━━━━━━━━━━━━━\u001b[0m\u001b[37m\u001b[0m \u001b[1m34s\u001b[0m 67ms/step - accuracy: 0.8705 - loss: 0.3017 - val_accuracy: 0.8970 - val_loss: 0.2548\n",
            "Epoch 7/10\n",
            "\u001b[1m505/505\u001b[0m \u001b[32m━━━━━━━━━━━━━━━━━━━━\u001b[0m\u001b[37m\u001b[0m \u001b[1m34s\u001b[0m 67ms/step - accuracy: 0.8713 - loss: 0.2892 - val_accuracy: 0.8846 - val_loss: 0.2703\n",
            "Epoch 8/10\n",
            "\u001b[1m505/505\u001b[0m \u001b[32m━━━━━━━━━━━━━━━━━━━━\u001b[0m\u001b[37m\u001b[0m \u001b[1m34s\u001b[0m 67ms/step - accuracy: 0.8790 - loss: 0.2818 - val_accuracy: 0.8935 - val_loss: 0.2581\n",
            "Epoch 9/10\n",
            "\u001b[1m505/505\u001b[0m \u001b[32m━━━━━━━━━━━━━━━━━━━━\u001b[0m\u001b[37m\u001b[0m \u001b[1m34s\u001b[0m 67ms/step - accuracy: 0.8806 - loss: 0.2830 - val_accuracy: 0.8940 - val_loss: 0.2524\n",
            "Epoch 10/10\n",
            "\u001b[1m505/505\u001b[0m \u001b[32m━━━━━━━━━━━━━━━━━━━━\u001b[0m\u001b[37m\u001b[0m \u001b[1m34s\u001b[0m 67ms/step - accuracy: 0.8852 - loss: 0.2768 - val_accuracy: 0.8818 - val_loss: 0.2686\n",
            "\u001b[1m135/135\u001b[0m \u001b[32m━━━━━━━━━━━━━━━━━━━━\u001b[0m\u001b[37m\u001b[0m \u001b[1m4s\u001b[0m 25ms/step - accuracy: 0.8983 - loss: 0.2512\n",
            "LSTM Test Accuracy: 0.8985\n"
          ]
        }
      ]
    },
    {
      "cell_type": "code",
      "source": [
        "from sklearn.metrics import accuracy_score, precision_score, recall_score, f1_score, roc_auc_score, classification_report\n",
        "\n",
        "# Predict on the test set\n",
        "y_pred_proba = lstm_model.predict([X_test_text, X_test_num])  # Predict probabilities\n",
        "y_pred = (y_pred_proba > 0.5).astype(int)  # Convert probabilities to binary predictions\n",
        "\n",
        "# Calculate metrics\n",
        "accuracy = accuracy_score(y_test, y_pred)\n",
        "precision = precision_score(y_test, y_pred)\n",
        "recall = recall_score(y_test, y_pred)\n",
        "f1 = f1_score(y_test, y_pred)\n",
        "auc_roc = roc_auc_score(y_test, y_pred_proba)\n",
        "\n",
        "# Print the metrics\n",
        "print(f\"LSTM Model Performance Metrics:\")\n",
        "print(f\"Accuracy   : {accuracy:.4f}\")\n",
        "print(f\"Precision  : {precision:.4f}\")\n",
        "print(f\"Recall     : {recall:.4f}\")\n",
        "print(f\"F1-Score   : {f1:.4f}\")\n",
        "print(f\"AUC-ROC    : {auc_roc:.4f}\")\n",
        "\n",
        "# Detailed classification report\n",
        "print(\"\\nClassification Report:\")\n",
        "print(classification_report(y_test, y_pred))\n"
      ],
      "metadata": {
        "colab": {
          "base_uri": "https://localhost:8080/"
        },
        "id": "JBzNdhk68SWN",
        "outputId": "0cf9112d-7d38-40b5-c7a0-2a6ec7837848"
      },
      "execution_count": 6,
      "outputs": [
        {
          "output_type": "stream",
          "name": "stdout",
          "text": [
            "\u001b[1m135/135\u001b[0m \u001b[32m━━━━━━━━━━━━━━━━━━━━\u001b[0m\u001b[37m\u001b[0m \u001b[1m4s\u001b[0m 25ms/step\n",
            "LSTM Model Performance Metrics:\n",
            "Accuracy   : 0.8985\n",
            "Precision  : 0.9057\n",
            "Recall     : 0.8465\n",
            "F1-Score   : 0.8751\n",
            "AUC-ROC    : 0.9625\n",
            "\n",
            "Classification Report:\n",
            "              precision    recall  f1-score   support\n",
            "\n",
            "           0       0.89      0.94      0.91      2491\n",
            "           1       0.91      0.85      0.88      1805\n",
            "\n",
            "    accuracy                           0.90      4296\n",
            "   macro avg       0.90      0.89      0.89      4296\n",
            "weighted avg       0.90      0.90      0.90      4296\n",
            "\n"
          ]
        }
      ]
    }
  ],
  "metadata": {
    "colab": {
      "machine_shape": "hm",
      "provenance": [],
      "authorship_tag": "ABX9TyONDO8OANOrbhS6gtE/0PPj",
      "include_colab_link": true
    },
    "kernelspec": {
      "display_name": "Python 3",
      "name": "python3"
    },
    "language_info": {
      "name": "python"
    }
  },
  "nbformat": 4,
  "nbformat_minor": 0
}