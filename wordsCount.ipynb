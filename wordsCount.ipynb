{
  "nbformat": 4,
  "nbformat_minor": 0,
  "metadata": {
    "colab": {
      "provenance": [],
      "authorship_tag": "ABX9TyN02/ML5dDmqNc3qcHzDNhn",
      "include_colab_link": true
    },
    "kernelspec": {
      "name": "python3",
      "display_name": "Python 3"
    },
    "language_info": {
      "name": "python"
    }
  },
  "cells": [
    {
      "cell_type": "markdown",
      "metadata": {
        "id": "view-in-github",
        "colab_type": "text"
      },
      "source": [
        "<a href=\"https://colab.research.google.com/github/AbeerProg/RRDS/blob/main/wordsCount.ipynb\" target=\"_parent\"><img src=\"https://colab.research.google.com/assets/colab-badge.svg\" alt=\"Open In Colab\"/></a>"
      ]
    },
    {
      "cell_type": "code",
      "source": [
        "import pandas as pd\n",
        "import spacy\n",
        "import string\n",
        "\n",
        "# Load SpaCy English model\n",
        "nlp = spacy.load('en_core_web_sm')\n",
        "\n",
        "# Load the dataset from the file\n",
        "df = pd.read_excel('main.xlsx')\n",
        "\n"
      ],
      "metadata": {
        "id": "P2vXwPTqPgX6"
      },
      "execution_count": 17,
      "outputs": []
    },
    {
      "cell_type": "code",
      "source": [
        "# Check if the column name 'Text' exists\n",
        "if 'text' not in df.columns:\n",
        "    print(\"Error: The DataFrame does not contain a 'Text' column.\")\n",
        "else:\n",
        "    # Set of first-person singular pronouns to preserve\n",
        "    first_person_singular_pronouns = {\"i\", \"me\", \"my\", \"mine\", \"myself\"}\n",
        "\n",
        "    def preprocess_text(text):\n",
        "        # Process the text with SpaCy\n",
        "        doc = nlp(text.lower())  # Lowercase the text\n",
        "\n",
        "        # Retain words, skip punctuation, and apply selective lemmatization\n",
        "        processed_tokens = []\n",
        "        for token in doc:\n",
        "            if token.is_punct:\n",
        "                continue\n",
        "            if token.text in first_person_singular_pronouns:\n",
        "                processed_tokens.append(token.text)  # Preserve the pronoun as is\n",
        "            elif not token.is_stop:\n",
        "                processed_tokens.append(token.lemma_)  # Lemmatize non-stop words\n",
        "\n",
        "        # Join tokens back into a single string\n",
        "        processed_text = ' '.join(processed_tokens)\n",
        "        return processed_text\n",
        "\n",
        "    def calculate_pronoun_ratio(text):\n",
        "        if not text:\n",
        "            return 0.0\n",
        "\n",
        "        # Process the preprocessed text\n",
        "        doc = nlp(text)\n",
        "\n",
        "        total_words = len(doc)\n",
        "        first_person_singular_count = sum(1 for token in doc if token.text.lower() in first_person_singular_pronouns)\n",
        "\n",
        "        # Calculate the ratio\n",
        "        ratio = first_person_singular_count / total_words if total_words > 0 else 0.0\n",
        "        return ratio\n"
      ],
      "metadata": {
        "id": "wUvTc4TMP126"
      },
      "execution_count": 18,
      "outputs": []
    },
    {
      "cell_type": "code",
      "source": [
        "\n",
        "    # Apply the preprocessing function to each review in the DataFrame\n",
        "    df['preprocessed_text'] = df['text'].apply(preprocess_text)\n",
        "\n",
        "    # Apply the pronoun ratio calculation to the preprocessed text\n",
        "    df['FSpronoun_ratio'] = df['preprocessed_text'].apply(calculate_pronoun_ratio)\n",
        "\n",
        "    # Display the DataFrame with the new columns\n",
        "    print(df[['text', 'preprocessed_text', 'FSpronoun_ratio']])\n",
        "\n",
        "    # Save the updated DataFrame to a new Excel file\n",
        "    df.to_excel('FSP_output.xlsx', index=False)\n"
      ],
      "metadata": {
        "colab": {
          "base_uri": "https://localhost:8080/"
        },
        "id": "Lch24QmZPkv0",
        "outputId": "9f0e3a13-f1ef-49b8-c263-84cf839c33c9"
      },
      "execution_count": 19,
      "outputs": [
        {
          "output_type": "stream",
          "name": "stdout",
          "text": [
            "                                                    text  \\\n",
            "0      - New spot! Just opened this week.\\n- Food is ...   \n",
            "1      - really good smoothies. Particularly the Pita...   \n",
            "2      !Great New York times.  You must order onion r...   \n",
            "3                              \"FOOT LONG s..Delicious!!   \n",
            "4      \"Hands down\" Best coffee shop in Boro Park !!\\...   \n",
            "...                                                  ...   \n",
            "22751  Zero stars if I could. Reporting this location...   \n",
            "22752  Zero stars. Rating is not for the food because...   \n",
            "22753  Zero to minimal wait line if you go at off pea...   \n",
            "22754  Zoya working register is the slowest human bei...   \n",
            "22755  Zuo Zongtang chicken and broccoli beef are my ...   \n",
            "\n",
            "                                       preprocessed_text  FSpronoun_ratio  \n",
            "0      new spot open week \\n food delicious i get chi...         0.069767  \n",
            "1      good smoothie particularly pitaya kale smoothi...         0.000000  \n",
            "2      great new york times   order onion ring delicious         0.000000  \n",
            "3                                  foot long s delicious         0.000000  \n",
            "4      hand good coffee shop boro park \\n great food ...         0.000000  \n",
            "...                                                  ...              ...  \n",
            "22751  zero star i report location terrible food qual...         0.125000  \n",
            "22752  zero star rating food i receive food   order d...         0.048780  \n",
            "22753                   zero minimal wait line peak hour         0.000000  \n",
            "22754  zoya working register slow human planet comple...         0.000000  \n",
            "22755  zuo zongtang chicken broccoli beef my favorite...         0.153846  \n",
            "\n",
            "[22756 rows x 3 columns]\n"
          ]
        }
      ]
    }
  ]
}