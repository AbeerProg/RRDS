{
  "nbformat": 4,
  "nbformat_minor": 0,
  "metadata": {
    "colab": {
      "provenance": [],
      "authorship_tag": "ABX9TyOuCt0AEsknEbE//AcZcR5B",
      "include_colab_link": true
    },
    "kernelspec": {
      "name": "python3",
      "display_name": "Python 3"
    },
    "language_info": {
      "name": "python"
    }
  },
  "cells": [
    {
      "cell_type": "markdown",
      "metadata": {
        "id": "view-in-github",
        "colab_type": "text"
      },
      "source": [
        "<a href=\"https://colab.research.google.com/github/AbeerProg/RRDS/blob/main/wordsCount.ipynb\" target=\"_parent\"><img src=\"https://colab.research.google.com/assets/colab-badge.svg\" alt=\"Open In Colab\"/></a>"
      ]
    },
    {
      "cell_type": "code",
      "source": [
        "import pandas as pd\n",
        "import re\n",
        "\n",
        "# Load the Excel file\n",
        "df = pd.read_excel('Main.xlsx')\n",
        "\n",
        "# Display the first few rows and column names to check the data\n",
        "print(df.head())\n",
        "print(df.columns)\n",
        "\n",
        "\n"
      ],
      "metadata": {
        "colab": {
          "base_uri": "https://localhost:8080/"
        },
        "id": "SpsGeibZIGbj",
        "outputId": "da9a07d5-bd0a-4ae1-c098-6f8005348865"
      },
      "execution_count": null,
      "outputs": [
        {
          "output_type": "stream",
          "name": "stdout",
          "text": [
            "                                                text\n",
            "0  - New spot! Just opened this week.\\n- Food is ...\n",
            "1  - really good smoothies. Particularly the Pita...\n",
            "2  !Great New York times.  You must order onion r...\n",
            "3                          \"FOOT LONG s..Delicious!!\n",
            "4  \"Hands down\" Best coffee shop in Boro Park !!\\...\n",
            "Index(['text'], dtype='object')\n"
          ]
        }
      ]
    },
    {
      "cell_type": "code",
      "source": [
        "# Function to preprocess text and count words\n",
        "def preprocess_and_count_words(text):\n",
        "    if pd.isna(text):  # Handle missing values\n",
        "        return 0\n",
        "\n",
        "    # Lowercase the text\n",
        "    text = text.lower()\n",
        "\n",
        "    # Remove punctuation\n",
        "    text = re.sub(r'[^\\w\\s]', '', text)\n",
        "\n",
        "    # Remove extra whitespace\n",
        "    text = re.sub(r'\\s+', ' ', text).strip()\n",
        "\n",
        "    # Tokenize the text by splitting on spaces\n",
        "    tokens = text.split()\n",
        "\n",
        "    # Return the number of tokens (words)\n",
        "    return len(tokens)\n",
        "\n",
        "# Apply the preprocessing function to count words\n",
        "df['word_count'] = df['text'].apply(preprocess_and_count_words)\n",
        "\n",
        "# Display the DataFrame with the new column to check the results\n",
        "print(df.head())\n",
        "\n",
        "# Save the DataFrame to an Excel file\n",
        "df.to_excel('output.xlsx', index=False)"
      ],
      "metadata": {
        "colab": {
          "base_uri": "https://localhost:8080/"
        },
        "id": "ImddI-hjILP-",
        "outputId": "68d092ca-59de-4b5f-994f-d706ffe5e9e4"
      },
      "execution_count": null,
      "outputs": [
        {
          "output_type": "stream",
          "name": "stdout",
          "text": [
            "                                                text  word_count\n",
            "0  - New spot! Just opened this week.\\n- Food is ...          58\n",
            "1  - really good smoothies. Particularly the Pita...          18\n",
            "2  !Great New York times.  You must order onion r...          12\n",
            "3                          \"FOOT LONG s..Delicious!!           3\n",
            "4  \"Hands down\" Best coffee shop in Boro Park !!\\...          12\n"
          ]
        }
      ]
    }
  ]
}