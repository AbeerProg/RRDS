{
  "cells": [
    {
      "cell_type": "markdown",
      "metadata": {
        "id": "view-in-github",
        "colab_type": "text"
      },
      "source": [
        "<a href=\"https://colab.research.google.com/github/AbeerProg/RRDS/blob/main/MODELsandSTA.ipynb\" target=\"_parent\"><img src=\"https://colab.research.google.com/assets/colab-badge.svg\" alt=\"Open In Colab\"/></a>"
      ]
    },
    {
      "cell_type": "code",
      "execution_count": null,
      "metadata": {
        "colab": {
          "base_uri": "https://localhost:8080/"
        },
        "id": "xMtZEaf28oKT",
        "outputId": "a4c17519-4fea-4c66-b263-0ad91844a7d6"
      },
      "outputs": [
        {
          "name": "stdout",
          "output_type": "stream",
          "text": [
            "Requirement already satisfied: pandas in /usr/local/lib/python3.10/dist-packages (2.1.4)\n",
            "Requirement already satisfied: scikit-learn in /usr/local/lib/python3.10/dist-packages (1.3.2)\n",
            "Requirement already satisfied: imbalanced-learn in /usr/local/lib/python3.10/dist-packages (0.12.3)\n",
            "Requirement already satisfied: matplotlib in /usr/local/lib/python3.10/dist-packages (3.7.1)\n",
            "Requirement already satisfied: numpy<2,>=1.22.4 in /usr/local/lib/python3.10/dist-packages (from pandas) (1.26.4)\n",
            "Requirement already satisfied: python-dateutil>=2.8.2 in /usr/local/lib/python3.10/dist-packages (from pandas) (2.8.2)\n",
            "Requirement already satisfied: pytz>=2020.1 in /usr/local/lib/python3.10/dist-packages (from pandas) (2024.1)\n",
            "Requirement already satisfied: tzdata>=2022.1 in /usr/local/lib/python3.10/dist-packages (from pandas) (2024.1)\n",
            "Requirement already satisfied: scipy>=1.5.0 in /usr/local/lib/python3.10/dist-packages (from scikit-learn) (1.13.1)\n",
            "Requirement already satisfied: joblib>=1.1.1 in /usr/local/lib/python3.10/dist-packages (from scikit-learn) (1.4.2)\n",
            "Requirement already satisfied: threadpoolctl>=2.0.0 in /usr/local/lib/python3.10/dist-packages (from scikit-learn) (3.5.0)\n",
            "Requirement already satisfied: contourpy>=1.0.1 in /usr/local/lib/python3.10/dist-packages (from matplotlib) (1.3.0)\n",
            "Requirement already satisfied: cycler>=0.10 in /usr/local/lib/python3.10/dist-packages (from matplotlib) (0.12.1)\n",
            "Requirement already satisfied: fonttools>=4.22.0 in /usr/local/lib/python3.10/dist-packages (from matplotlib) (4.53.1)\n",
            "Requirement already satisfied: kiwisolver>=1.0.1 in /usr/local/lib/python3.10/dist-packages (from matplotlib) (1.4.5)\n",
            "Requirement already satisfied: packaging>=20.0 in /usr/local/lib/python3.10/dist-packages (from matplotlib) (24.1)\n",
            "Requirement already satisfied: pillow>=6.2.0 in /usr/local/lib/python3.10/dist-packages (from matplotlib) (9.4.0)\n",
            "Requirement already satisfied: pyparsing>=2.3.1 in /usr/local/lib/python3.10/dist-packages (from matplotlib) (3.1.4)\n",
            "Requirement already satisfied: six>=1.5 in /usr/local/lib/python3.10/dist-packages (from python-dateutil>=2.8.2->pandas) (1.16.0)\n"
          ]
        }
      ],
      "source": [
        "pip install pandas scikit-learn imbalanced-learn matplotlib\n"
      ]
    },
    {
      "cell_type": "code",
      "execution_count": null,
      "metadata": {
        "id": "-VKGv6-x8tc_"
      },
      "outputs": [],
      "source": [
        "import pandas as pd\n",
        "from sklearn.model_selection import train_test_split\n",
        "from sklearn.feature_extraction.text import TfidfVectorizer\n",
        "from sklearn.ensemble import RandomForestClassifier\n",
        "from sklearn.metrics import classification_report, confusion_matrix, accuracy_score\n",
        "import matplotlib.pyplot as plt\n",
        "import seaborn as sns\n",
        "from imblearn.over_sampling import SMOTE\n",
        "\n",
        "df = pd.read_excel('/content/Final_dataset.xlsx')\n",
        "\n",
        "X_text = df.iloc[:, 0]\n",
        "X_numerical = df.iloc[:, 1:-1]\n",
        "y = df['Label']\n"
      ]
    },
    {
      "cell_type": "code",
      "execution_count": null,
      "metadata": {
        "colab": {
          "base_uri": "https://localhost:8080/"
        },
        "id": "M7jPk2ZV-jCp",
        "outputId": "975aa6d7-1ff6-462e-f15c-0ea1048f6d53"
      },
      "outputs": [
        {
          "name": "stdout",
          "output_type": "stream",
          "text": [
            "Index(['PM Ratio', 'FPSP Ratio', 'Review Length', 'RW Ratio', 'Sentiment',\n",
            "       'Generalization', 'Passive Voice', 'Total reviewer reviews',\n",
            "       'Account type', 'Useful votes ', 'Attached Medias'],\n",
            "      dtype='object')\n",
            "<class 'pandas.core.frame.DataFrame'>\n",
            "RangeIndex: 21476 entries, 0 to 21475\n",
            "Data columns (total 13 columns):\n",
            " #   Column                  Non-Null Count  Dtype  \n",
            "---  ------                  --------------  -----  \n",
            " 0   review_text             21476 non-null  object \n",
            " 1   PM Ratio                21476 non-null  float64\n",
            " 2   FPSP Ratio              21476 non-null  float64\n",
            " 3   Review Length           21476 non-null  int64  \n",
            " 4   RW Ratio                21476 non-null  float64\n",
            " 5   Sentiment               21476 non-null  float64\n",
            " 6   Generalization          21476 non-null  float64\n",
            " 7   Passive Voice           21476 non-null  float64\n",
            " 8   Total reviewer reviews  21476 non-null  int64  \n",
            " 9   Account type            21476 non-null  int64  \n",
            " 10  Useful votes            21476 non-null  int64  \n",
            " 11  Attached Medias         21476 non-null  int64  \n",
            " 12  Label                   21476 non-null  int64  \n",
            "dtypes: float64(6), int64(6), object(1)\n",
            "memory usage: 2.1+ MB\n",
            "None\n"
          ]
        }
      ],
      "source": [
        "import pandas as pd\n",
        "\n",
        "\n",
        "text_column = df.iloc[:, 0]         # The text data (first column)\n",
        "features = df.iloc[:, 1:12]         # 11 numerical features (columns 1 to 11)\n",
        "labels = df.iloc[:, -1]             # The label (last column)\n",
        "\n",
        "print(features.columns)\n",
        "print(df.info())\n"
      ]
    },
    {
      "cell_type": "code",
      "execution_count": null,
      "metadata": {
        "id": "PprLJ7tsTM6x"
      },
      "outputs": [],
      "source": [
        "# Manually select a subset of the 11 numerical features by column names or indices\n",
        "selected_features = ['Review Length','Total reviewer reviews','RW Ratio','Account type']\n",
        "\n",
        "# Extract the subset of selected features\n",
        "subset_features = features[selected_features]\n"
      ]
    },
    {
      "cell_type": "code",
      "execution_count": null,
      "metadata": {
        "id": "VKvogYs9TtiL"
      },
      "outputs": [],
      "source": [
        "from sklearn.feature_extraction.text import TfidfVectorizer\n",
        "from sklearn.model_selection import train_test_split\n",
        "from imblearn.over_sampling import SMOTE\n",
        "\n",
        "# Train-test split for text data and labels\n",
        "X_train_text, X_test_text, y_train, y_test = train_test_split(text_column, labels, test_size=0.2, random_state=42)\n",
        "\n",
        "# Apply TF-IDF vectorization to the text data\n",
        "tfidf = TfidfVectorizer(max_features=5000)  # You can adjust max_features as needed\n",
        "X_train_tfidf = tfidf.fit_transform(X_train_text)\n",
        "X_test_tfidf = tfidf.transform(X_test_text)\n",
        "\n",
        "# Train-test split for the selected subset of numerical features\n",
        "X_train_num, X_test_num, y_train_num, y_test_num = train_test_split(subset_features, labels, test_size=0.2, random_state=42)\n",
        "\n",
        "# Apply SMOTE to handle class imbalance\n",
        "smote = SMOTE(random_state=42)\n",
        "X_train_num_resampled, y_train_num_resampled = smote.fit_resample(X_train_num, y_train_num)\n"
      ]
    },
    {
      "cell_type": "code",
      "execution_count": null,
      "metadata": {
        "id": "OablRu67Twhl"
      },
      "outputs": [],
      "source": [
        "from scipy.sparse import hstack\n",
        "\n",
        "# Combine TF-IDF features and selected numerical features for training and testing\n",
        "X_train_combined = hstack([X_train_tfidf, X_train_num])\n",
        "X_test_combined = hstack([X_test_tfidf, X_test_num])\n",
        "\n",
        "# Apply SMOTE on the combined feature set\n",
        "X_train_combined_resampled, y_train_combined_resampled = smote.fit_resample(X_train_combined, y_train_num)\n"
      ]
    },
    {
      "cell_type": "code",
      "execution_count": null,
      "metadata": {
        "colab": {
          "base_uri": "https://localhost:8080/"
        },
        "id": "wSiMMnr3T1X6",
        "outputId": "b320ded9-559d-49c0-c7d2-a6c1ba648b40"
      },
      "outputs": [
        {
          "name": "stdout",
          "output_type": "stream",
          "text": [
            "Results for combined TF-IDF and selected numerical features:\n",
            "[[1945  546]\n",
            " [ 388 1417]]\n",
            "              precision    recall  f1-score   support\n",
            "\n",
            "           0       0.83      0.78      0.81      2491\n",
            "           1       0.72      0.79      0.75      1805\n",
            "\n",
            "    accuracy                           0.78      4296\n",
            "   macro avg       0.78      0.78      0.78      4296\n",
            "weighted avg       0.79      0.78      0.78      4296\n",
            "\n"
          ]
        },
        {
          "name": "stderr",
          "output_type": "stream",
          "text": [
            "/usr/local/lib/python3.10/dist-packages/sklearn/linear_model/_logistic.py:460: ConvergenceWarning: lbfgs failed to converge (status=1):\n",
            "STOP: TOTAL NO. of ITERATIONS REACHED LIMIT.\n",
            "\n",
            "Increase the number of iterations (max_iter) or scale the data as shown in:\n",
            "    https://scikit-learn.org/stable/modules/preprocessing.html\n",
            "Please also refer to the documentation for alternative solver options:\n",
            "    https://scikit-learn.org/stable/modules/linear_model.html#logistic-regression\n",
            "  n_iter_i = _check_optimize_result(\n"
          ]
        }
      ],
      "source": [
        "from sklearn.linear_model import LogisticRegression\n",
        "from sklearn.metrics import confusion_matrix, classification_report\n",
        "\n",
        "# Train a Logistic Regression model on the combined features\n",
        "model_combined = LogisticRegression(max_iter=1000)\n",
        "model_combined.fit(X_train_combined_resampled, y_train_combined_resampled)\n",
        "\n",
        "# Make predictions on the test set\n",
        "y_pred_combined = model_combined.predict(X_test_combined)\n",
        "\n",
        "# Evaluate the model\n",
        "print(\"Results for combined TF-IDF and selected numerical features:\")\n",
        "print(confusion_matrix(y_test_num, y_pred_combined))\n",
        "print(classification_report(y_test_num, y_pred_combined))\n"
      ]
    },
    {
      "cell_type": "code",
      "execution_count": null,
      "metadata": {
        "id": "xSKbdGmk-vwn"
      },
      "outputs": [],
      "source": [
        "from sklearn.feature_extraction.text import TfidfVectorizer\n",
        "from sklearn.model_selection import train_test_split\n",
        "from imblearn.over_sampling import SMOTE\n",
        "\n",
        "X_train_text, X_test_text, y_train, y_test = train_test_split(text_column, labels, test_size=0.2, random_state=42)\n",
        "\n",
        "tfidf = TfidfVectorizer(max_features=5000)\n",
        "X_train_tfidf = tfidf.fit_transform(X_train_text)\n",
        "X_test_tfidf = tfidf.transform(X_test_text)"
      ]
    },
    {
      "cell_type": "code",
      "execution_count": null,
      "metadata": {
        "id": "HkOBTojZ-76F"
      },
      "outputs": [],
      "source": [
        "# Apply SMOTE to oversample the minority class in the training set\n",
        "smote = SMOTE(random_state=42)\n",
        "X_train_tfidf_resampled, y_train_resampled = smote.fit_resample(X_train_tfidf, y_train)\n"
      ]
    },
    {
      "cell_type": "code",
      "execution_count": null,
      "metadata": {
        "colab": {
          "base_uri": "https://localhost:8080/"
        },
        "id": "f7vqb9AqBnpL",
        "outputId": "a065426e-6bd0-4281-ddb4-6b073cfb2dfd"
      },
      "outputs": [
        {
          "name": "stdout",
          "output_type": "stream",
          "text": [
            "Results for TF-IDF features alone:\n",
            "[[1713  778]\n",
            " [ 685 1120]]\n",
            "              precision    recall  f1-score   support\n",
            "\n",
            "           0       0.71      0.69      0.70      2491\n",
            "           1       0.59      0.62      0.60      1805\n",
            "\n",
            "    accuracy                           0.66      4296\n",
            "   macro avg       0.65      0.65      0.65      4296\n",
            "weighted avg       0.66      0.66      0.66      4296\n",
            "\n"
          ]
        }
      ],
      "source": [
        "from sklearn.linear_model import LogisticRegression\n",
        "from sklearn.metrics import confusion_matrix, classification_report\n",
        "\n",
        "model_tfidf = LogisticRegression(max_iter=1000)\n",
        "model_tfidf.fit(X_train_tfidf_resampled, y_train_resampled)\n",
        "\n",
        "y_pred_tfidf = model_tfidf.predict(X_test_tfidf)\n",
        "\n",
        "print(\"Results for TF-IDF features alone:\")\n",
        "print(confusion_matrix(y_test, y_pred_tfidf))\n",
        "print(classification_report(y_test, y_pred_tfidf))\n"
      ]
    },
    {
      "cell_type": "code",
      "execution_count": null,
      "metadata": {
        "colab": {
          "base_uri": "https://localhost:8080/"
        },
        "id": "k5mN9T3HBvn6",
        "outputId": "54d16f94-fa41-46d1-eb99-3487558b3e77"
      },
      "outputs": [
        {
          "name": "stdout",
          "output_type": "stream",
          "text": [
            "Results for numerical features alone:\n",
            "[[2082  409]\n",
            " [ 257 1548]]\n",
            "              precision    recall  f1-score   support\n",
            "\n",
            "           0       0.89      0.84      0.86      2491\n",
            "           1       0.79      0.86      0.82      1805\n",
            "\n",
            "    accuracy                           0.84      4296\n",
            "   macro avg       0.84      0.85      0.84      4296\n",
            "weighted avg       0.85      0.84      0.85      4296\n",
            "\n"
          ]
        },
        {
          "name": "stderr",
          "output_type": "stream",
          "text": [
            "/usr/local/lib/python3.10/dist-packages/sklearn/linear_model/_logistic.py:460: ConvergenceWarning: lbfgs failed to converge (status=1):\n",
            "STOP: TOTAL NO. of ITERATIONS REACHED LIMIT.\n",
            "\n",
            "Increase the number of iterations (max_iter) or scale the data as shown in:\n",
            "    https://scikit-learn.org/stable/modules/preprocessing.html\n",
            "Please also refer to the documentation for alternative solver options:\n",
            "    https://scikit-learn.org/stable/modules/linear_model.html#logistic-regression\n",
            "  n_iter_i = _check_optimize_result(\n"
          ]
        }
      ],
      "source": [
        "# Train-test split for numerical features and labels\n",
        "X_train_num, X_test_num, y_train_num, y_test_num = train_test_split(features, labels, test_size=0.2, random_state=42)\n",
        "\n",
        "# Apply SMOTE to handle class imbalance for the numerical features\n",
        "X_train_num_resampled, y_train_num_resampled = smote.fit_resample(X_train_num, y_train_num)\n",
        "\n",
        "# Train Logistic Regression on numerical features\n",
        "model_num = LogisticRegression(max_iter=1000)\n",
        "model_num.fit(X_train_num_resampled, y_train_num_resampled)\n",
        "\n",
        "# Make predictions on the test set\n",
        "y_pred_num = model_num.predict(X_test_num)\n",
        "\n",
        "# Evaluate the model using confusion matrix and classification report\n",
        "print(\"Results for numerical features alone:\")\n",
        "print(confusion_matrix(y_test_num, y_pred_num))\n",
        "print(classification_report(y_test_num, y_pred_num))\n"
      ]
    },
    {
      "cell_type": "code",
      "execution_count": null,
      "metadata": {
        "colab": {
          "base_uri": "https://localhost:8080/",
          "height": 211
        },
        "id": "sZDWPciqB1Jy",
        "outputId": "3f44ad5b-ef80-4573-afee-8723eadf093a"
      },
      "outputs": [
        {
          "ename": "NameError",
          "evalue": "name 'y_pred_tfidf' is not defined",
          "output_type": "error",
          "traceback": [
            "\u001b[0;31m---------------------------------------------------------------------------\u001b[0m",
            "\u001b[0;31mNameError\u001b[0m                                 Traceback (most recent call last)",
            "\u001b[0;32m<ipython-input-12-959d7e870899>\u001b[0m in \u001b[0;36m<cell line: 5>\u001b[0;34m()\u001b[0m\n\u001b[1;32m      3\u001b[0m \u001b[0;34m\u001b[0m\u001b[0m\n\u001b[1;32m      4\u001b[0m \u001b[0;31m# Confusion matrix for TF-IDF features\u001b[0m\u001b[0;34m\u001b[0m\u001b[0;34m\u001b[0m\u001b[0m\n\u001b[0;32m----> 5\u001b[0;31m \u001b[0mConfusionMatrixDisplay\u001b[0m\u001b[0;34m.\u001b[0m\u001b[0mfrom_predictions\u001b[0m\u001b[0;34m(\u001b[0m\u001b[0my_test\u001b[0m\u001b[0;34m,\u001b[0m \u001b[0my_pred_tfidf\u001b[0m\u001b[0;34m)\u001b[0m\u001b[0;34m\u001b[0m\u001b[0;34m\u001b[0m\u001b[0m\n\u001b[0m\u001b[1;32m      6\u001b[0m \u001b[0mplt\u001b[0m\u001b[0;34m.\u001b[0m\u001b[0mtitle\u001b[0m\u001b[0;34m(\u001b[0m\u001b[0;34m\"Confusion Matrix for TF-IDF Features\"\u001b[0m\u001b[0;34m)\u001b[0m\u001b[0;34m\u001b[0m\u001b[0;34m\u001b[0m\u001b[0m\n\u001b[1;32m      7\u001b[0m \u001b[0mplt\u001b[0m\u001b[0;34m.\u001b[0m\u001b[0mshow\u001b[0m\u001b[0;34m(\u001b[0m\u001b[0;34m)\u001b[0m\u001b[0;34m\u001b[0m\u001b[0;34m\u001b[0m\u001b[0m\n",
            "\u001b[0;31mNameError\u001b[0m: name 'y_pred_tfidf' is not defined"
          ]
        }
      ],
      "source": [
        "import matplotlib.pyplot as plt\n",
        "from sklearn.metrics import ConfusionMatrixDisplay\n",
        "\n",
        "# Confusion matrix for TF-IDF features\n",
        "ConfusionMatrixDisplay.from_predictions(y_test, y_pred_tfidf)\n",
        "plt.title(\"Confusion Matrix for TF-IDF Features\")\n",
        "plt.show()\n",
        "\n",
        "# Confusion matrix for numerical features\n",
        "ConfusionMatrixDisplay.from_predictions(y_test_num, y_pred_num)\n",
        "plt.title(\"Confusion Matrix for Numerical Features\")\n",
        "plt.show()\n"
      ]
    },
    {
      "cell_type": "code",
      "execution_count": null,
      "metadata": {
        "colab": {
          "base_uri": "https://localhost:8080/"
        },
        "id": "do735gey842k",
        "outputId": "44235dd6-7dfa-49b2-8d16-4255e6f4eade"
      },
      "outputs": [
        {
          "name": "stdout",
          "output_type": "stream",
          "text": [
            "Results for combined TF-IDF and numerical features:\n",
            "[[2124  367]\n",
            " [ 258 1547]]\n",
            "              precision    recall  f1-score   support\n",
            "\n",
            "           0       0.89      0.85      0.87      2491\n",
            "           1       0.81      0.86      0.83      1805\n",
            "\n",
            "    accuracy                           0.85      4296\n",
            "   macro avg       0.85      0.85      0.85      4296\n",
            "weighted avg       0.86      0.85      0.86      4296\n",
            "\n"
          ]
        },
        {
          "name": "stderr",
          "output_type": "stream",
          "text": [
            "/usr/local/lib/python3.10/dist-packages/sklearn/linear_model/_logistic.py:460: ConvergenceWarning: lbfgs failed to converge (status=1):\n",
            "STOP: TOTAL NO. of ITERATIONS REACHED LIMIT.\n",
            "\n",
            "Increase the number of iterations (max_iter) or scale the data as shown in:\n",
            "    https://scikit-learn.org/stable/modules/preprocessing.html\n",
            "Please also refer to the documentation for alternative solver options:\n",
            "    https://scikit-learn.org/stable/modules/linear_model.html#logistic-regression\n",
            "  n_iter_i = _check_optimize_result(\n"
          ]
        }
      ],
      "source": [
        "from scipy.sparse import hstack\n",
        "\n",
        "X_train_combined = hstack([X_train_tfidf, X_train_num])\n",
        "X_test_combined = hstack([X_test_tfidf, X_test_num])\n",
        "\n",
        "X_train_combined_resampled, y_train_combined_resampled = smote.fit_resample(X_train_combined, y_train_num)\n",
        "\n",
        "model_combined = LogisticRegression(max_iter=1000)\n",
        "model_combined.fit(X_train_combined_resampled, y_train_combined_resampled)\n",
        "\n",
        "y_pred_combined = model_combined.predict(X_test_combined)\n",
        "\n",
        "# Evaluate the model\n",
        "print(\"Results for combined TF-IDF and numerical features:\")\n",
        "print(confusion_matrix(y_test_num, y_pred_combined))\n",
        "print(classification_report(y_test_num, y_pred_combined))\n"
      ]
    },
    {
      "cell_type": "code",
      "execution_count": null,
      "metadata": {
        "colab": {
          "base_uri": "https://localhost:8080/"
        },
        "id": "a_irWMuBCU82",
        "outputId": "1e308050-3338-467f-885b-31bd252ba1bf"
      },
      "outputs": [
        {
          "name": "stdout",
          "output_type": "stream",
          "text": [
            "Requirement already satisfied: scikit-learn in /usr/local/lib/python3.10/dist-packages (1.3.2)\n",
            "Requirement already satisfied: numpy<2.0,>=1.17.3 in /usr/local/lib/python3.10/dist-packages (from scikit-learn) (1.26.4)\n",
            "Requirement already satisfied: scipy>=1.5.0 in /usr/local/lib/python3.10/dist-packages (from scikit-learn) (1.13.1)\n",
            "Requirement already satisfied: joblib>=1.1.1 in /usr/local/lib/python3.10/dist-packages (from scikit-learn) (1.4.2)\n",
            "Requirement already satisfied: threadpoolctl>=2.0.0 in /usr/local/lib/python3.10/dist-packages (from scikit-learn) (3.5.0)\n"
          ]
        }
      ],
      "source": [
        "pip install scikit-learn\n"
      ]
    },
    {
      "cell_type": "code",
      "execution_count": null,
      "metadata": {
        "colab": {
          "base_uri": "https://localhost:8080/"
        },
        "id": "AwNBydslCYKV",
        "outputId": "8ba7a31d-d8c3-41b8-9e8a-c3984727cfeb"
      },
      "outputs": [
        {
          "name": "stdout",
          "output_type": "stream",
          "text": [
            "Results for SVM on TF-IDF features:\n",
            "[[1648  843]\n",
            " [ 650 1155]]\n",
            "              precision    recall  f1-score   support\n",
            "\n",
            "           0       0.72      0.66      0.69      2491\n",
            "           1       0.58      0.64      0.61      1805\n",
            "\n",
            "    accuracy                           0.65      4296\n",
            "   macro avg       0.65      0.65      0.65      4296\n",
            "weighted avg       0.66      0.65      0.65      4296\n",
            "\n",
            "Results for SVM on numerical features:\n",
            "[[2091  400]\n",
            " [ 247 1558]]\n",
            "              precision    recall  f1-score   support\n",
            "\n",
            "           0       0.89      0.84      0.87      2491\n",
            "           1       0.80      0.86      0.83      1805\n",
            "\n",
            "    accuracy                           0.85      4296\n",
            "   macro avg       0.85      0.85      0.85      4296\n",
            "weighted avg       0.85      0.85      0.85      4296\n",
            "\n"
          ]
        }
      ],
      "source": [
        "from sklearn.svm import SVC\n",
        "\n",
        "# Train SVM on TF-IDF features\n",
        "model_svm_tfidf = SVC(kernel='linear', random_state=42)\n",
        "model_svm_tfidf.fit(X_train_tfidf_resampled, y_train_resampled)\n",
        "\n",
        "# Predictions\n",
        "y_pred_svm_tfidf = model_svm_tfidf.predict(X_test_tfidf)\n",
        "\n",
        "# Evaluate the model\n",
        "print(\"Results for SVM on TF-IDF features:\")\n",
        "print(confusion_matrix(y_test, y_pred_svm_tfidf))\n",
        "print(classification_report(y_test, y_pred_svm_tfidf))\n",
        "\n",
        "# Train SVM on numerical features\n",
        "model_svm_num = SVC(kernel='linear', random_state=42)\n",
        "model_svm_num.fit(X_train_num_resampled, y_train_num_resampled)\n",
        "\n",
        "# Predictions\n",
        "y_pred_svm_num = model_svm_num.predict(X_test_num)\n",
        "\n",
        "# Evaluate the model\n",
        "print(\"Results for SVM on numerical features:\")\n",
        "print(confusion_matrix(y_test_num, y_pred_svm_num))\n",
        "print(classification_report(y_test_num, y_pred_svm_num))\n"
      ]
    },
    {
      "cell_type": "code",
      "execution_count": null,
      "metadata": {
        "colab": {
          "base_uri": "https://localhost:8080/"
        },
        "id": "PqdAPhmjCg-Q",
        "outputId": "ffc495e5-16c0-4a1a-a41c-6671e4e49cb0"
      },
      "outputs": [
        {
          "name": "stdout",
          "output_type": "stream",
          "text": [
            "Results for Random Forest on TF-IDF features:\n",
            "[[1905  586]\n",
            " [ 854  951]]\n",
            "              precision    recall  f1-score   support\n",
            "\n",
            "           0       0.69      0.76      0.73      2491\n",
            "           1       0.62      0.53      0.57      1805\n",
            "\n",
            "    accuracy                           0.66      4296\n",
            "   macro avg       0.65      0.65      0.65      4296\n",
            "weighted avg       0.66      0.66      0.66      4296\n",
            "\n",
            "Results for Random Forest on numerical features:\n",
            "[[2466   25]\n",
            " [  47 1758]]\n",
            "              precision    recall  f1-score   support\n",
            "\n",
            "           0       0.98      0.99      0.99      2491\n",
            "           1       0.99      0.97      0.98      1805\n",
            "\n",
            "    accuracy                           0.98      4296\n",
            "   macro avg       0.98      0.98      0.98      4296\n",
            "weighted avg       0.98      0.98      0.98      4296\n",
            "\n"
          ]
        }
      ],
      "source": [
        "from sklearn.ensemble import RandomForestClassifier\n",
        "\n",
        "model_rf_tfidf = RandomForestClassifier(random_state=42)\n",
        "model_rf_tfidf.fit(X_train_tfidf_resampled, y_train_resampled)\n",
        "\n",
        "y_pred_rf_tfidf = model_rf_tfidf.predict(X_test_tfidf)\n",
        "\n",
        "print(\"Results for Random Forest on TF-IDF features:\")\n",
        "print(confusion_matrix(y_test, y_pred_rf_tfidf))\n",
        "print(classification_report(y_test, y_pred_rf_tfidf))\n",
        "\n",
        "# Train Random Forest on numerical features\n",
        "model_rf_num = RandomForestClassifier(random_state=42)\n",
        "model_rf_num.fit(X_train_num_resampled, y_train_num_resampled)\n",
        "\n",
        "# Predictions\n",
        "y_pred_rf_num = model_rf_num.predict(X_test_num)\n",
        "\n",
        "# Evaluate the model\n",
        "print(\"Results for Random Forest on numerical features:\")\n",
        "print(confusion_matrix(y_test_num, y_pred_rf_num))\n",
        "print(classification_report(y_test_num, y_pred_rf_num))\n"
      ]
    },
    {
      "cell_type": "code",
      "execution_count": null,
      "metadata": {
        "colab": {
          "base_uri": "https://localhost:8080/"
        },
        "id": "0_CSKTTsF3XU",
        "outputId": "9dc9bf69-2c06-48b9-8dae-cb3d8b31b6f0"
      },
      "outputs": [
        {
          "name": "stderr",
          "output_type": "stream",
          "text": [
            "/usr/local/lib/python3.10/dist-packages/sklearn/linear_model/_logistic.py:460: ConvergenceWarning: lbfgs failed to converge (status=1):\n",
            "STOP: TOTAL NO. of ITERATIONS REACHED LIMIT.\n",
            "\n",
            "Increase the number of iterations (max_iter) or scale the data as shown in:\n",
            "    https://scikit-learn.org/stable/modules/preprocessing.html\n",
            "Please also refer to the documentation for alternative solver options:\n",
            "    https://scikit-learn.org/stable/modules/linear_model.html#logistic-regression\n",
            "  n_iter_i = _check_optimize_result(\n"
          ]
        },
        {
          "name": "stdout",
          "output_type": "stream",
          "text": [
            "Results for Logistic Regression:\n",
            "              precision    recall  f1-score   support\n",
            "\n",
            "           0       0.87      0.88      0.88      2491\n",
            "           1       0.84      0.82      0.83      1805\n",
            "\n",
            "    accuracy                           0.86      4296\n",
            "   macro avg       0.85      0.85      0.85      4296\n",
            "weighted avg       0.86      0.86      0.86      4296\n",
            "\n",
            "--------------------------------------------------\n",
            "Results for Random Forest:\n",
            "              precision    recall  f1-score   support\n",
            "\n",
            "           0       0.98      0.99      0.98      2491\n",
            "           1       0.99      0.97      0.98      1805\n",
            "\n",
            "    accuracy                           0.98      4296\n",
            "   macro avg       0.98      0.98      0.98      4296\n",
            "weighted avg       0.98      0.98      0.98      4296\n",
            "\n",
            "--------------------------------------------------\n",
            "Results for SVM:\n",
            "              precision    recall  f1-score   support\n",
            "\n",
            "           0       0.87      0.89      0.88      2491\n",
            "           1       0.85      0.82      0.83      1805\n",
            "\n",
            "    accuracy                           0.86      4296\n",
            "   macro avg       0.86      0.86      0.86      4296\n",
            "weighted avg       0.86      0.86      0.86      4296\n",
            "\n",
            "--------------------------------------------------\n",
            "Results for Naive Bayes:\n",
            "              precision    recall  f1-score   support\n",
            "\n",
            "           0       0.86      0.68      0.76      2491\n",
            "           1       0.66      0.84      0.74      1805\n",
            "\n",
            "    accuracy                           0.75      4296\n",
            "   macro avg       0.76      0.76      0.75      4296\n",
            "weighted avg       0.77      0.75      0.75      4296\n",
            "\n",
            "--------------------------------------------------\n"
          ]
        }
      ],
      "source": [
        "from sklearn.model_selection import train_test_split, cross_val_score\n",
        "from sklearn.metrics import accuracy_score, classification_report\n",
        "from sklearn.ensemble import RandomForestClassifier\n",
        "from sklearn.linear_model import LogisticRegression\n",
        "from sklearn.svm import SVC\n",
        "from sklearn.naive_bayes import GaussianNB\n",
        "from xgboost import XGBClassifier\n",
        "from sklearn.ensemble import GradientBoostingClassifier\n",
        "\n",
        "\n",
        "X_train, X_test, y_train, y_test = train_test_split(features, labels, test_size=0.2, random_state=42)\n",
        "\n",
        "# Test diffrent models\n",
        "models = [\n",
        "    ('Logistic Regression', LogisticRegression(max_iter=1000)),\n",
        "    ('Random Forest', RandomForestClassifier()),\n",
        "    ('SVM', SVC(kernel='linear')),\n",
        "    ('Naive Bayes', GaussianNB()),\n",
        "]\n",
        "\n",
        "# Iterate over models and compare\n",
        "for name, model in models:\n",
        "    model.fit(X_train, y_train)\n",
        "    y_pred = model.predict(X_test)\n",
        "    print(f\"Results for {name}:\")\n",
        "    print(classification_report(y_test, y_pred))\n",
        "    print('-' * 50)\n"
      ]
    },
    {
      "cell_type": "markdown",
      "metadata": {
        "id": "eOZGKi5feM64"
      },
      "source": [
        "===========================================================\n",
        "NEW START TO TRY MODELS\n",
        "===========================================================\n"
      ]
    },
    {
      "cell_type": "code",
      "execution_count": null,
      "metadata": {
        "colab": {
          "base_uri": "https://localhost:8080/"
        },
        "id": "NuHBGY2leMD6",
        "outputId": "9a26ace6-5c7a-427a-91d0-a65682a5da1c"
      },
      "outputs": [
        {
          "name": "stdout",
          "output_type": "stream",
          "text": [
            "Requirement already satisfied: pandas in /usr/local/lib/python3.10/dist-packages (2.1.4)\n",
            "Requirement already satisfied: scikit-learn in /usr/local/lib/python3.10/dist-packages (1.3.2)\n",
            "Requirement already satisfied: imbalanced-learn in /usr/local/lib/python3.10/dist-packages (0.12.3)\n",
            "Requirement already satisfied: matplotlib in /usr/local/lib/python3.10/dist-packages (3.7.1)\n",
            "Requirement already satisfied: numpy<2,>=1.22.4 in /usr/local/lib/python3.10/dist-packages (from pandas) (1.26.4)\n",
            "Requirement already satisfied: python-dateutil>=2.8.2 in /usr/local/lib/python3.10/dist-packages (from pandas) (2.8.2)\n",
            "Requirement already satisfied: pytz>=2020.1 in /usr/local/lib/python3.10/dist-packages (from pandas) (2024.1)\n",
            "Requirement already satisfied: tzdata>=2022.1 in /usr/local/lib/python3.10/dist-packages (from pandas) (2024.1)\n",
            "Requirement already satisfied: scipy>=1.5.0 in /usr/local/lib/python3.10/dist-packages (from scikit-learn) (1.13.1)\n",
            "Requirement already satisfied: joblib>=1.1.1 in /usr/local/lib/python3.10/dist-packages (from scikit-learn) (1.4.2)\n",
            "Requirement already satisfied: threadpoolctl>=2.0.0 in /usr/local/lib/python3.10/dist-packages (from scikit-learn) (3.5.0)\n",
            "Requirement already satisfied: contourpy>=1.0.1 in /usr/local/lib/python3.10/dist-packages (from matplotlib) (1.3.0)\n",
            "Requirement already satisfied: cycler>=0.10 in /usr/local/lib/python3.10/dist-packages (from matplotlib) (0.12.1)\n",
            "Requirement already satisfied: fonttools>=4.22.0 in /usr/local/lib/python3.10/dist-packages (from matplotlib) (4.53.1)\n",
            "Requirement already satisfied: kiwisolver>=1.0.1 in /usr/local/lib/python3.10/dist-packages (from matplotlib) (1.4.5)\n",
            "Requirement already satisfied: packaging>=20.0 in /usr/local/lib/python3.10/dist-packages (from matplotlib) (24.1)\n",
            "Requirement already satisfied: pillow>=6.2.0 in /usr/local/lib/python3.10/dist-packages (from matplotlib) (9.4.0)\n",
            "Requirement already satisfied: pyparsing>=2.3.1 in /usr/local/lib/python3.10/dist-packages (from matplotlib) (3.1.4)\n",
            "Requirement already satisfied: six>=1.5 in /usr/local/lib/python3.10/dist-packages (from python-dateutil>=2.8.2->pandas) (1.16.0)\n"
          ]
        }
      ],
      "source": [
        "pip install pandas scikit-learn imbalanced-learn matplotlib\n"
      ]
    },
    {
      "cell_type": "code",
      "execution_count": null,
      "metadata": {
        "id": "udYlM5nLebjF"
      },
      "outputs": [],
      "source": [
        "import pandas as pd\n",
        "\n",
        "# Load the dataset\n",
        "df = pd.read_excel('/content/Final_dataset.xlsx')\n",
        "\n",
        "# Assuming the columns are: text, 11 features, and label\n",
        "text_column = df.iloc[:, 0]         # Text data (1st column)\n",
        "features = df.iloc[:, 1:12]         # 11 numerical features (next 11 columns)\n",
        "labels = df.iloc[:, -1]             # Label (last column)\n"
      ]
    },
    {
      "cell_type": "code",
      "execution_count": null,
      "metadata": {
        "id": "hKufFkubeh7O"
      },
      "outputs": [],
      "source": [
        "from sklearn.neighbors import KNeighborsClassifier\n",
        "from sklearn.naive_bayes import GaussianNB\n",
        "from sklearn.linear_model import LogisticRegression\n",
        "from sklearn.svm import SVC\n",
        "from sklearn.ensemble import RandomForestClassifier\n",
        "from sklearn.model_selection import train_test_split\n",
        "from sklearn.metrics import confusion_matrix, classification_report\n",
        "from imblearn.over_sampling import SMOTE\n"
      ]
    },
    {
      "cell_type": "code",
      "execution_count": null,
      "metadata": {
        "id": "FAOY3s39elvj"
      },
      "outputs": [],
      "source": [
        "from sklearn.feature_extraction.text import TfidfVectorizer\n",
        "\n",
        "# Train-test split for text data and labels\n",
        "X_train_text, X_test_text, y_train, y_test = train_test_split(text_column, labels, test_size=0.2, random_state=42)\n",
        "\n",
        "# Apply TF-IDF vectorization to the text data\n",
        "tfidf = TfidfVectorizer(max_features=5000)  # You can adjust max_features as needed\n",
        "X_train_tfidf = tfidf.fit_transform(X_train_text)\n",
        "X_test_tfidf = tfidf.transform(X_test_text)\n"
      ]
    },
    {
      "cell_type": "code",
      "execution_count": null,
      "metadata": {
        "id": "VkM82iMJepZC"
      },
      "outputs": [],
      "source": [
        "smote = SMOTE(random_state=42)\n",
        "\n",
        "# Apply SMOTE to oversample the minority class in the training set for numerical features\n",
        "X_train_num, X_test_num, y_train_num, y_test_num = train_test_split(features, labels, test_size=0.2, random_state=42)\n",
        "X_train_num_resampled, y_train_num_resampled = smote.fit_resample(X_train_num, y_train_num)\n",
        "\n",
        "# Combine TF-IDF features and numerical features\n",
        "from scipy.sparse import hstack\n",
        "X_train_combined = hstack([X_train_tfidf, X_train_num])\n",
        "X_test_combined = hstack([X_test_tfidf, X_test_num])\n",
        "\n",
        "# Apply SMOTE on the combined feature set\n",
        "X_train_combined_resampled, y_train_combined_resampled = smote.fit_resample(X_train_combined, y_train_num)\n"
      ]
    },
    {
      "cell_type": "code",
      "execution_count": null,
      "metadata": {
        "id": "F2sqYobjeugN"
      },
      "outputs": [],
      "source": [
        "def evaluate_models(X_train, X_test, y_train, y_test, model_name, models):\n",
        "    results = []\n",
        "    for name, model in models.items():\n",
        "        model.fit(X_train, y_train)\n",
        "        y_pred = model.predict(X_test)\n",
        "        accuracy = model.score(X_test, y_test)\n",
        "\n",
        "        # Calculate metrics\n",
        "        metrics = classification_report(y_test, y_pred, output_dict=True)\n",
        "        results.append({\n",
        "            'Model': name,\n",
        "            'Accuracy': accuracy,\n",
        "            'Precision': metrics['weighted avg']['precision'],\n",
        "            'Recall': metrics['weighted avg']['recall'],\n",
        "            'F1-Score': metrics['weighted avg']['f1-score']\n",
        "        })\n",
        "\n",
        "        # Display confusion matrix\n",
        "        print(f\"Confusion Matrix for {name} ({model_name}):\")\n",
        "        print(confusion_matrix(y_test, y_pred))\n",
        "\n",
        "    # Create and display results in a table\n",
        "    return pd.DataFrame(results)\n",
        "\n",
        "# Models to evaluate\n",
        "models = {\n",
        "    'KNN': KNeighborsClassifier(),\n",
        "    'Naive Bayes': GaussianNB(),\n",
        "    'Logistic Regression': LogisticRegression(max_iter=1000),\n",
        "    'SVM': SVC(kernel='linear'),\n",
        "    'Random Forest': RandomForestClassifier()\n",
        "}\n"
      ]
    },
    {
      "cell_type": "code",
      "execution_count": null,
      "metadata": {
        "colab": {
          "base_uri": "https://localhost:8080/"
        },
        "id": "6nhQrIvhey5j",
        "outputId": "8ed71c72-f28c-4894-c240-0df1b8fbb4c9"
      },
      "outputs": [
        {
          "name": "stdout",
          "output_type": "stream",
          "text": [
            "Evaluation for Numerical Features Only:\n",
            "Confusion Matrix for KNN (Numerical):\n",
            "[[1715  776]\n",
            " [ 466 1339]]\n",
            "Confusion Matrix for Naive Bayes (Numerical):\n",
            "[[1587  904]\n",
            " [ 291 1514]]\n"
          ]
        },
        {
          "name": "stderr",
          "output_type": "stream",
          "text": [
            "/usr/local/lib/python3.10/dist-packages/sklearn/linear_model/_logistic.py:460: ConvergenceWarning: lbfgs failed to converge (status=1):\n",
            "STOP: TOTAL NO. of ITERATIONS REACHED LIMIT.\n",
            "\n",
            "Increase the number of iterations (max_iter) or scale the data as shown in:\n",
            "    https://scikit-learn.org/stable/modules/preprocessing.html\n",
            "Please also refer to the documentation for alternative solver options:\n",
            "    https://scikit-learn.org/stable/modules/linear_model.html#logistic-regression\n",
            "  n_iter_i = _check_optimize_result(\n"
          ]
        },
        {
          "name": "stdout",
          "output_type": "stream",
          "text": [
            "Confusion Matrix for Logistic Regression (Numerical):\n",
            "[[2082  409]\n",
            " [ 257 1548]]\n",
            "Confusion Matrix for SVM (Numerical):\n",
            "[[2091  400]\n",
            " [ 247 1558]]\n",
            "Confusion Matrix for Random Forest (Numerical):\n",
            "[[2461   30]\n",
            " [  54 1751]]\n",
            "                 Model  Accuracy  Precision    Recall  F1-Score\n",
            "0                  KNN  0.710894   0.721952  0.710894  0.712734\n",
            "1          Naive Bayes  0.721834   0.753071  0.721834  0.722509\n",
            "2  Logistic Regression  0.844972   0.848479  0.844972  0.845665\n",
            "3                  SVM  0.849395   0.852908  0.849395  0.850071\n",
            "4        Random Forest  0.980447   0.980473  0.980447  0.980428\n"
          ]
        }
      ],
      "source": [
        "print(\"Evaluation for Numerical Features Only:\")\n",
        "numerical_results = evaluate_models(X_train_num_resampled, X_test_num, y_train_num_resampled, y_test_num, \"Numerical\", models)\n",
        "print(numerical_results)\n"
      ]
    },
    {
      "cell_type": "code",
      "execution_count": null,
      "metadata": {
        "id": "F4xzIV4hikhE"
      },
      "outputs": [],
      "source": [
        "def evaluate_models(X_train, X_test, y_train, y_test, model_name, models):\n",
        "    results = []\n",
        "\n",
        "    # Convert X_train and X_test to dense if they are sparse\n",
        "    if hasattr(X_train, 'toarray'):\n",
        "        X_train = X_train.toarray()\n",
        "    if hasattr(X_test, 'toarray'):\n",
        "        X_test = X_test.toarray()\n",
        "\n",
        "    for name, model in models.items():\n",
        "        model.fit(X_train, y_train)\n",
        "        y_pred = model.predict(X_test)\n",
        "        accuracy = model.score(X_test, y_test)\n",
        "\n",
        "        # Calculate metrics\n",
        "        metrics = classification_report(y_test, y_pred, output_dict=True)\n",
        "        results.append({\n",
        "            'Model': name,\n",
        "            'Accuracy': accuracy,\n",
        "            'Precision': metrics['weighted avg']['precision'],\n",
        "            'Recall': metrics['weighted avg']['recall'],\n",
        "            'F1-Score': metrics['weighted avg']['f1-score']\n",
        "        })\n",
        "\n",
        "        # Display confusion matrix\n",
        "        print(f\"Confusion Matrix for {name} ({model_name}):\")\n",
        "        print(confusion_matrix(y_test, y_pred))\n",
        "\n",
        "    # Create and display results in a table\n",
        "    return pd.DataFrame(results)\n"
      ]
    },
    {
      "cell_type": "code",
      "execution_count": null,
      "metadata": {
        "colab": {
          "base_uri": "https://localhost:8080/"
        },
        "id": "HhftA4yOisfQ",
        "outputId": "ac7dbb5a-1883-4b02-9364-321f94c00f17"
      },
      "outputs": [
        {
          "name": "stdout",
          "output_type": "stream",
          "text": [
            "Evaluation for TF-IDF Features Only:\n",
            "Confusion Matrix for KNN (TF-IDF):\n",
            "[[1130 1361]\n",
            " [ 529 1276]]\n",
            "Confusion Matrix for Naive Bayes (TF-IDF):\n",
            "[[ 655 1836]\n",
            " [ 281 1524]]\n",
            "Confusion Matrix for Logistic Regression (TF-IDF):\n",
            "[[2004  487]\n",
            " [ 902  903]]\n",
            "Confusion Matrix for SVM (TF-IDF):\n",
            "[[1944  547]\n",
            " [ 892  913]]\n",
            "Confusion Matrix for Random Forest (TF-IDF):\n",
            "[[2086  405]\n",
            " [1006  799]]\n",
            "                 Model  Accuracy  Precision    Recall  F1-Score\n",
            "0                  KNN  0.560056   0.598257  0.560056  0.557157\n",
            "1          Naive Bayes  0.507216   0.596337  0.507216  0.469596\n",
            "2  Logistic Regression  0.676676   0.672815  0.676676  0.668109\n",
            "3                  SVM  0.665037   0.660208  0.665037  0.658187\n",
            "4        Random Forest  0.671555   0.670013  0.671555  0.656432\n"
          ]
        }
      ],
      "source": [
        "print(\"Evaluation for TF-IDF Features Only:\")\n",
        "tfidf_results = evaluate_models(X_train_tfidf, X_test_tfidf, y_train, y_test, \"TF-IDF\", models)\n",
        "print(tfidf_results)\n",
        ".."
      ]
    },
    {
      "cell_type": "code",
      "execution_count": null,
      "metadata": {
        "colab": {
          "background_save": true,
          "base_uri": "https://localhost:8080/"
        },
        "id": "dWf-CSfnfDEA",
        "outputId": "0ada8121-be68-49a0-ec7f-0f541e8a3c20"
      },
      "outputs": [
        {
          "name": "stdout",
          "output_type": "stream",
          "text": [
            "Evaluation for Combined TF-IDF and Numerical Features:\n",
            "Confusion Matrix for KNN (Combined):\n",
            "[[1631  860]\n",
            " [ 417 1388]]\n",
            "Confusion Matrix for Naive Bayes (Combined):\n",
            "[[1104 1387]\n",
            " [ 499 1306]]\n"
          ]
        },
        {
          "name": "stderr",
          "output_type": "stream",
          "text": [
            "/usr/local/lib/python3.10/dist-packages/sklearn/linear_model/_logistic.py:460: ConvergenceWarning: lbfgs failed to converge (status=1):\n",
            "STOP: TOTAL NO. of ITERATIONS REACHED LIMIT.\n",
            "\n",
            "Increase the number of iterations (max_iter) or scale the data as shown in:\n",
            "    https://scikit-learn.org/stable/modules/preprocessing.html\n",
            "Please also refer to the documentation for alternative solver options:\n",
            "    https://scikit-learn.org/stable/modules/linear_model.html#logistic-regression\n",
            "  n_iter_i = _check_optimize_result(\n"
          ]
        },
        {
          "name": "stdout",
          "output_type": "stream",
          "text": [
            "Confusion Matrix for Logistic Regression (Combined):\n",
            "[[2123  368]\n",
            " [ 260 1545]]\n",
            "Confusion Matrix for SVM (Combined):\n",
            "[[2130  361]\n",
            " [ 264 1541]]\n",
            "Confusion Matrix for Random Forest (Combined):\n",
            "[[2387  104]\n",
            " [ 304 1501]]\n",
            "                 Model  Accuracy  Precision    Recall  F1-Score\n",
            "0                  KNN  0.702747   0.721200  0.702747  0.704486\n",
            "1          Naive Bayes  0.560987   0.603102  0.560987  0.556711\n",
            "2  Logistic Regression  0.853818   0.855911  0.853818  0.854321\n",
            "3                  SVM  0.854516   0.856311  0.854516  0.854975\n",
            "4        Random Forest  0.905028   0.907271  0.905028  0.904076\n"
          ]
        }
      ],
      "source": [
        "print(\"Evaluation for Combined TF-IDF and Numerical Features:\")\n",
        "combined_results = evaluate_models(X_train_combined_resampled, X_test_combined, y_train_combined_resampled, y_test_num, \"Combined\", models)\n",
        "print(combined_results)\n"
      ]
    },
    {
      "cell_type": "code",
      "execution_count": null,
      "metadata": {
        "colab": {
          "background_save": true
        },
        "id": "1ph6HQkhqeNF",
        "outputId": "a3c2978e-cf18-42ae-9863-0602668a1b56"
      },
      "outputs": [
        {
          "name": "stdout",
          "output_type": "stream",
          "text": [
            "Evaluation for Combined TF-IDF and Numerical Features:\n",
            "Confusion Matrix for KNN (Combined):\n",
            "[[1631  860]\n",
            " [ 417 1388]]\n",
            "Confusion Matrix for Naive Bayes (Combined):\n",
            "[[1104 1387]\n",
            " [ 499 1306]]\n"
          ]
        },
        {
          "name": "stderr",
          "output_type": "stream",
          "text": [
            "/usr/local/lib/python3.10/dist-packages/sklearn/linear_model/_logistic.py:460: ConvergenceWarning: lbfgs failed to converge (status=1):\n",
            "STOP: TOTAL NO. of ITERATIONS REACHED LIMIT.\n",
            "\n",
            "Increase the number of iterations (max_iter) or scale the data as shown in:\n",
            "    https://scikit-learn.org/stable/modules/preprocessing.html\n",
            "Please also refer to the documentation for alternative solver options:\n",
            "    https://scikit-learn.org/stable/modules/linear_model.html#logistic-regression\n",
            "  n_iter_i = _check_optimize_result(\n"
          ]
        },
        {
          "name": "stdout",
          "output_type": "stream",
          "text": [
            "Confusion Matrix for Logistic Regression (Combined):\n",
            "[[2123  368]\n",
            " [ 260 1545]]\n",
            "Confusion Matrix for SVM (Combined):\n",
            "[[2130  361]\n",
            " [ 264 1541]]\n",
            "Confusion Matrix for Random Forest (Combined):\n",
            "[[2395   96]\n",
            " [ 314 1491]]\n",
            "                 Model  Accuracy  Precision    Recall  F1-Score\n",
            "0                  KNN  0.702747   0.721200  0.702747  0.704486\n",
            "1          Naive Bayes  0.560987   0.603102  0.560987  0.556711\n",
            "2  Logistic Regression  0.853818   0.855911  0.853818  0.854321\n",
            "3                  SVM  0.854516   0.856311  0.854516  0.854975\n",
            "4        Random Forest  0.904562   0.907375  0.904562  0.903496\n"
          ]
        }
      ],
      "source": [
        "print(\"Evaluation for Combined TF-IDF and Numerical Features:\")\n",
        "combined_results = evaluate_models(X_train_combined_resampled, X_test_combined, y_train_combined_resampled, y_test_num, \"Combined\", models)\n",
        "print(combined_results)"
      ]
    },
    {
      "cell_type": "code",
      "execution_count": null,
      "metadata": {
        "colab": {
          "background_save": true
        },
        "id": "kqICeshFfGkV",
        "outputId": "bf292e7a-9479-441c-834b-fb5a23f37068"
      },
      "outputs": [
        {
          "name": "stdout",
          "output_type": "stream",
          "text": [
            "                 Model  Accuracy  Precision    Recall  F1-Score  \\\n",
            "0                  KNN  0.710894   0.721952  0.710894  0.712734   \n",
            "1          Naive Bayes  0.721834   0.753071  0.721834  0.722509   \n",
            "2  Logistic Regression  0.844972   0.848479  0.844972  0.845665   \n",
            "3                  SVM  0.849395   0.852908  0.849395  0.850071   \n",
            "4        Random Forest  0.980447   0.980473  0.980447  0.980428   \n",
            "0                  KNN  0.560056   0.598257  0.560056  0.557157   \n",
            "1          Naive Bayes  0.507216   0.596337  0.507216  0.469596   \n",
            "2  Logistic Regression  0.676676   0.672815  0.676676  0.668109   \n",
            "3                  SVM  0.665037   0.660208  0.665037  0.658187   \n",
            "4        Random Forest  0.671555   0.670013  0.671555  0.656432   \n",
            "0                  KNN  0.702747   0.721200  0.702747  0.704486   \n",
            "1          Naive Bayes  0.560987   0.603102  0.560987  0.556711   \n",
            "2  Logistic Regression  0.853818   0.855911  0.853818  0.854321   \n",
            "3                  SVM  0.854516   0.856311  0.854516  0.854975   \n",
            "4        Random Forest  0.904562   0.907375  0.904562  0.903496   \n",
            "\n",
            "             Scenario  \n",
            "0  Numerical Features  \n",
            "1  Numerical Features  \n",
            "2  Numerical Features  \n",
            "3  Numerical Features  \n",
            "4  Numerical Features  \n",
            "0     TF-IDF Features  \n",
            "1     TF-IDF Features  \n",
            "2     TF-IDF Features  \n",
            "3     TF-IDF Features  \n",
            "4     TF-IDF Features  \n",
            "0   Combined Features  \n",
            "1   Combined Features  \n",
            "2   Combined Features  \n",
            "3   Combined Features  \n",
            "4   Combined Features  \n"
          ]
        }
      ],
      "source": [
        "# Combine results from all scenarios\n",
        "combined_results_df = pd.concat([\n",
        "    numerical_results.assign(Scenario='Numerical Features'),\n",
        "    tfidf_results.assign(Scenario='TF-IDF Features'),\n",
        "    combined_results.assign(Scenario='Combined Features')\n",
        "])\n",
        "\n",
        "# Display results in a table\n",
        "print(combined_results_df)\n",
        "\n",
        "# Save the results to a CSV file if needed\n",
        "combined_results_df.to_csv('model_comparison_results.csv', index=False)\n"
      ]
    },
    {
      "cell_type": "code",
      "source": [
        "import pandas as pd\n",
        "\n",
        "# Load the dataset (replace 'a.xlsx' with your actual file)\n",
        "df = pd.read_excel('/content/Final_dataset.xlsx')\n",
        "\n",
        "# Assuming 'feature_a' is the column for which you want to find the maximum value\n",
        "# and 'label' is the class column\n",
        "# Modify the column names if necessary to match your dataset\n",
        "\n",
        "# Group by the 'label' (class) column and find the max value for 'feature_a'\n",
        "max_feature_a_by_class = df.groupby('Label')['Review Length'].max()\n",
        "\n",
        "# Display the maximum values for each class\n",
        "print(max_feature_a_by_class)\n"
      ],
      "metadata": {
        "colab": {
          "base_uri": "https://localhost:8080/"
        },
        "id": "M2_wrzQJAO9C",
        "outputId": "2d501dca-aa26-47e6-aeae-e985f9e74f1a"
      },
      "execution_count": null,
      "outputs": [
        {
          "output_type": "stream",
          "name": "stdout",
          "text": [
            "Label\n",
            "0    676\n",
            "1    772\n",
            "Name: Review Length, dtype: int64\n"
          ]
        }
      ]
    },
    {
      "cell_type": "code",
      "source": [
        "import pandas as pd\n",
        "\n",
        "# Load the dataset (replace 'a.xlsx' with your actual file)\n",
        "df = pd.read_excel('/content/Final_dataset.xlsx')\n",
        "\n",
        "# Assuming 'feature_a' is the column for which you want to find the maximum value\n",
        "# and 'label' is the class column\n",
        "# Modify the column names if necessary to match your dataset\n",
        "\n",
        "# Group by the 'label' (class) column and find the max value for 'feature_a'\n",
        "max_feature_a_by_class = df.groupby('Label')['PM Ratio'].max()\n",
        "\n",
        "# Display the maximum values for each class\n",
        "print(max_feature_a_by_class)\n"
      ],
      "metadata": {
        "colab": {
          "base_uri": "https://localhost:8080/"
        },
        "id": "uKy9LbRKBMdm",
        "outputId": "4362891c-b170-4726-af23-8fe43b2372d2"
      },
      "execution_count": null,
      "outputs": [
        {
          "output_type": "stream",
          "name": "stdout",
          "text": [
            "Label\n",
            "0    0.322581\n",
            "1    0.292683\n",
            "Name: PM Ratio, dtype: float64\n"
          ]
        }
      ]
    },
    {
      "cell_type": "code",
      "source": [
        "import pandas as pd\n",
        "\n",
        "# Load the dataset (replace 'a.xlsx' with your actual file)\n",
        "df = pd.read_excel('/content/Final_dataset.xlsx')\n",
        "\n",
        "# Assuming 'feature_a' is the column for which you want to find the maximum value\n",
        "# and 'label' is the class column\n",
        "# Modify the column names if necessary to match your dataset\n",
        "\n",
        "# Group by the 'label' (class) column and find the max value for 'feature_a'\n",
        "max_feature_a_by_class = df.groupby('Label')['FPSP Ratio'].max()\n",
        "\n",
        "# Display the maximum values for each class\n",
        "print(max_feature_a_by_class)\n"
      ],
      "metadata": {
        "colab": {
          "base_uri": "https://localhost:8080/"
        },
        "id": "i-6EXuzoBeO9",
        "outputId": "9d578796-823e-4f8c-b4a2-5565aa7ede1f"
      },
      "execution_count": null,
      "outputs": [
        {
          "output_type": "stream",
          "name": "stdout",
          "text": [
            "Label\n",
            "0    0.666667\n",
            "1    1.000000\n",
            "Name: FPSP Ratio, dtype: float64\n"
          ]
        }
      ]
    },
    {
      "cell_type": "code",
      "source": [
        "import pandas as pd\n",
        "\n",
        "# Check the dataset to ensure it is loaded correctly\n",
        "print(df.head())\n"
      ],
      "metadata": {
        "colab": {
          "base_uri": "https://localhost:8080/"
        },
        "id": "AB2N1EjoB2qj",
        "outputId": "64f634ec-6b3e-4509-cbe2-1aa295694eb1"
      },
      "execution_count": null,
      "outputs": [
        {
          "output_type": "stream",
          "name": "stdout",
          "text": [
            "                                         review_text  PM Ratio  FPSP Ratio  \\\n",
            "0  a bad experience I will never go to that place...  0.007968    0.045455   \n",
            "1  a bad experience in this place I will not retu...  0.030928    0.181818   \n",
            "2  A bastion of the old school diner Cheap sandwi...  0.051282    0.000000   \n",
            "3  A beautiful cafe in Brooklyn with many options...  0.016393    0.000000   \n",
            "4  A beautiful place to spend your time at The ca...  0.030769    0.000000   \n",
            "\n",
            "   Review Length  RW Ratio  Sentiment  Generalization  Passive Voice  \\\n",
            "0             46       0.2    -0.9607        0.722222            0.0   \n",
            "1             18       0.0    -0.2500        1.055556            0.0   \n",
            "2             31       0.0     0.7269        1.064516            0.0   \n",
            "3             10       0.0     0.5994        0.500000            0.0   \n",
            "4             13       0.0     0.8074        1.000000            0.0   \n",
            "\n",
            "   Total reviewer reviews  Account type  Useful votes   Attached Medias  Label  \n",
            "0                     135             1              0                0      0  \n",
            "1                      85             0              1                0      0  \n",
            "2                       8             1              0                0      1  \n",
            "3                      42             1              1                1      0  \n",
            "4                       6             1              0                0      1  \n"
          ]
        }
      ]
    },
    {
      "cell_type": "code",
      "source": [
        "features = df.iloc[:, 1:12]  # This selects columns 2 to 12\n",
        "\n",
        "# Calculate the correlation matrix for the selected features\n",
        "correlation_matrix = features.corr()\n",
        "\n",
        "# Display the correlation matrix\n",
        "print(correlation_matrix)"
      ],
      "metadata": {
        "colab": {
          "base_uri": "https://localhost:8080/"
        },
        "id": "4BTzE5cgCv7z",
        "outputId": "9e75becb-e1c7-4b64-e2b2-6d613e821d75"
      },
      "execution_count": null,
      "outputs": [
        {
          "output_type": "stream",
          "name": "stdout",
          "text": [
            "                        PM Ratio  FPSP Ratio  Review Length  RW Ratio  \\\n",
            "PM Ratio                1.000000   -0.048084      -0.070072 -0.022779   \n",
            "FPSP Ratio             -0.048084    1.000000       0.217690  0.122000   \n",
            "Review Length          -0.070072    0.217690       1.000000  0.424255   \n",
            "RW Ratio               -0.022779    0.122000       0.424255  1.000000   \n",
            "Sentiment               0.038056   -0.102716      -0.001425  0.002445   \n",
            "Generalization         -0.052488   -0.079250      -0.288601 -0.055304   \n",
            "Passive Voice          -0.042594    0.047557       0.143815  0.079418   \n",
            "Total reviewer reviews  0.014468   -0.007916      -0.007139 -0.012722   \n",
            "Account type           -0.012711    0.019333       0.004405  0.012721   \n",
            "Useful votes            0.001088    0.022594       0.012786  0.005698   \n",
            "Attached Medias        -0.000260    0.005370       0.016382  0.013132   \n",
            "\n",
            "                        Sentiment  Generalization  Passive Voice  \\\n",
            "PM Ratio                 0.038056       -0.052488      -0.042594   \n",
            "FPSP Ratio              -0.102716       -0.079250       0.047557   \n",
            "Review Length           -0.001425       -0.288601       0.143815   \n",
            "RW Ratio                 0.002445       -0.055304       0.079418   \n",
            "Sentiment                1.000000        0.034672      -0.089332   \n",
            "Generalization           0.034672        1.000000      -0.043519   \n",
            "Passive Voice           -0.089332       -0.043519       1.000000   \n",
            "Total reviewer reviews   0.008190       -0.006367      -0.008461   \n",
            "Account type            -0.012783       -0.001250       0.001005   \n",
            "Useful votes            -0.012423       -0.014857       0.004778   \n",
            "Attached Medias         -0.015187       -0.008443      -0.004411   \n",
            "\n",
            "                        Total reviewer reviews  Account type  Useful votes   \\\n",
            "PM Ratio                              0.014468     -0.012711       0.001088   \n",
            "FPSP Ratio                           -0.007916      0.019333       0.022594   \n",
            "Review Length                        -0.007139      0.004405       0.012786   \n",
            "RW Ratio                             -0.012722      0.012721       0.005698   \n",
            "Sentiment                             0.008190     -0.012783      -0.012423   \n",
            "Generalization                       -0.006367     -0.001250      -0.014857   \n",
            "Passive Voice                        -0.008461      0.001005       0.004778   \n",
            "Total reviewer reviews                1.000000     -0.358335       0.031012   \n",
            "Account type                         -0.358335      1.000000       0.016153   \n",
            "Useful votes                          0.031012      0.016153       1.000000   \n",
            "Attached Medias                       0.122390     -0.091242       0.146262   \n",
            "\n",
            "                        Attached Medias  \n",
            "PM Ratio                      -0.000260  \n",
            "FPSP Ratio                     0.005370  \n",
            "Review Length                  0.016382  \n",
            "RW Ratio                       0.013132  \n",
            "Sentiment                     -0.015187  \n",
            "Generalization                -0.008443  \n",
            "Passive Voice                 -0.004411  \n",
            "Total reviewer reviews         0.122390  \n",
            "Account type                  -0.091242  \n",
            "Useful votes                   0.146262  \n",
            "Attached Medias                1.000000  \n"
          ]
        }
      ]
    },
    {
      "cell_type": "code",
      "source": [
        "import pandas as pd\n",
        "import seaborn as sns\n",
        "import matplotlib.pyplot as plt\n",
        "# Visualize the correlation matrix using a heatmap\n",
        "plt.figure(figsize=(10, 8))\n",
        "sns.heatmap(correlation_matrix, annot=True, cmap='coolwarm', linewidths=0.5)\n",
        "\n",
        "# Show the heatmap\n",
        "plt.title('Correlation Matrix for Selected Features (Columns 2 to 12)')\n",
        "plt.show()"
      ],
      "metadata": {
        "colab": {
          "base_uri": "https://localhost:8080/",
          "height": 839
        },
        "id": "7SbVHkHLDWVg",
        "outputId": "91ff23b1-1766-4abc-bcd3-2f941e358107"
      },
      "execution_count": null,
      "outputs": [
        {
          "output_type": "display_data",
          "data": {
            "text/plain": [
              "<Figure size 1000x800 with 2 Axes>"
            ],
            "image/png": "[encoded data removed]"
          },
          "metadata": {}
        }
      ]
    },
    {
      "cell_type": "code",
      "source": [
        "pip install pandas scikit-learn matplotlib"
      ],
      "metadata": {
        "colab": {
          "base_uri": "https://localhost:8080/"
        },
        "id": "ARhnTakDlxgd",
        "outputId": "7e35f16d-9bdb-4146-ae40-d9ef44c6d799"
      },
      "execution_count": null,
      "outputs": [
        {
          "output_type": "stream",
          "name": "stdout",
          "text": [
            "Requirement already satisfied: pandas in /usr/local/lib/python3.10/dist-packages (2.1.4)\n",
            "Requirement already satisfied: scikit-learn in /usr/local/lib/python3.10/dist-packages (1.3.2)\n",
            "Requirement already satisfied: matplotlib in /usr/local/lib/python3.10/dist-packages (3.7.1)\n",
            "Requirement already satisfied: numpy<2,>=1.22.4 in /usr/local/lib/python3.10/dist-packages (from pandas) (1.26.4)\n",
            "Requirement already satisfied: python-dateutil>=2.8.2 in /usr/local/lib/python3.10/dist-packages (from pandas) (2.8.2)\n",
            "Requirement already satisfied: pytz>=2020.1 in /usr/local/lib/python3.10/dist-packages (from pandas) (2024.1)\n",
            "Requirement already satisfied: tzdata>=2022.1 in /usr/local/lib/python3.10/dist-packages (from pandas) (2024.1)\n",
            "Requirement already satisfied: scipy>=1.5.0 in /usr/local/lib/python3.10/dist-packages (from scikit-learn) (1.13.1)\n",
            "Requirement already satisfied: joblib>=1.1.1 in /usr/local/lib/python3.10/dist-packages (from scikit-learn) (1.4.2)\n",
            "Requirement already satisfied: threadpoolctl>=2.0.0 in /usr/local/lib/python3.10/dist-packages (from scikit-learn) (3.5.0)\n",
            "Requirement already satisfied: contourpy>=1.0.1 in /usr/local/lib/python3.10/dist-packages (from matplotlib) (1.3.0)\n",
            "Requirement already satisfied: cycler>=0.10 in /usr/local/lib/python3.10/dist-packages (from matplotlib) (0.12.1)\n",
            "Requirement already satisfied: fonttools>=4.22.0 in /usr/local/lib/python3.10/dist-packages (from matplotlib) (4.53.1)\n",
            "Requirement already satisfied: kiwisolver>=1.0.1 in /usr/local/lib/python3.10/dist-packages (from matplotlib) (1.4.7)\n",
            "Requirement already satisfied: packaging>=20.0 in /usr/local/lib/python3.10/dist-packages (from matplotlib) (24.1)\n",
            "Requirement already satisfied: pillow>=6.2.0 in /usr/local/lib/python3.10/dist-packages (from matplotlib) (9.4.0)\n",
            "Requirement already satisfied: pyparsing>=2.3.1 in /usr/local/lib/python3.10/dist-packages (from matplotlib) (3.1.4)\n",
            "Requirement already satisfied: six>=1.5 in /usr/local/lib/python3.10/dist-packages (from python-dateutil>=2.8.2->pandas) (1.16.0)\n"
          ]
        }
      ]
    },
    {
      "cell_type": "code",
      "source": [
        "import pandas as pd\n",
        "from sklearn.model_selection import train_test_split\n",
        "\n",
        "# Load the dataset\n",
        "df = pd.read_excel('Final_dataset.xlsx')\n",
        "\n",
        "\n",
        "# Exclude the first column (text) and use columns 2 to the second-to-last column for features\n",
        "X = df.iloc[:, 1:-1]  # Features (excluding the first column for text)\n",
        "y = df.iloc[:, -1]    # Labels (last column)\n",
        "\n",
        "# Split the dataset into training and testing sets\n",
        "X_train, X_test, y_train, y_test = train_test_split(X, y, test_size=0.2, random_state=42)\n"
      ],
      "metadata": {
        "id": "Dg_h-CL9l0uW"
      },
      "execution_count": null,
      "outputs": []
    },
    {
      "cell_type": "code",
      "source": [
        "from sklearn.neighbors import KNeighborsClassifier\n",
        "from sklearn.naive_bayes import GaussianNB\n",
        "from sklearn.linear_model import LogisticRegression\n",
        "from sklearn.ensemble import RandomForestClassifier\n",
        "from sklearn.tree import DecisionTreeClassifier\n",
        "from sklearn.metrics import accuracy_score\n",
        "\n",
        "# Define the models\n",
        "models = {\n",
        "    'Naive Bayes': GaussianNB(),\n",
        "    'KNN': KNeighborsClassifier(),\n",
        "    'Decision Tree': DecisionTreeClassifier(),\n",
        "    'Logistic Regression': LogisticRegression(max_iter=1000),\n",
        "    'Random Forest': RandomForestClassifier()\n",
        "}\n",
        "\n",
        "# Dictionary to store accuracy results\n",
        "results = {}\n",
        "\n",
        "# Train each model and calculate accuracy\n",
        "for model_name, model in models.items():\n",
        "    model.fit(X_train, y_train)  # Train the model\n",
        "    y_pred = model.predict(X_test)  # Make predictions\n",
        "    accuracy = accuracy_score(y_test, y_pred)  # Calculate accuracy\n",
        "    results[model_name] = accuracy * 100  # Store accuracy as percentage\n",
        "\n",
        "# Print the results\n",
        "print(results)"
      ],
      "metadata": {
        "colab": {
          "base_uri": "https://localhost:8080/"
        },
        "id": "RoQFWWO4l4Te",
        "outputId": "1815c01a-3722-4e5f-bc3b-5827f98255f9"
      },
      "execution_count": null,
      "outputs": [
        {
          "output_type": "stream",
          "name": "stderr",
          "text": [
            "/usr/local/lib/python3.10/dist-packages/sklearn/linear_model/_logistic.py:460: ConvergenceWarning: lbfgs failed to converge (status=1):\n",
            "STOP: TOTAL NO. of ITERATIONS REACHED LIMIT.\n",
            "\n",
            "Increase the number of iterations (max_iter) or scale the data as shown in:\n",
            "    https://scikit-learn.org/stable/modules/preprocessing.html\n",
            "Please also refer to the documentation for alternative solver options:\n",
            "    https://scikit-learn.org/stable/modules/linear_model.html#logistic-regression\n",
            "  n_iter_i = _check_optimize_result(\n"
          ]
        },
        {
          "output_type": "stream",
          "name": "stdout",
          "text": [
            "{'Naive Bayes': 75.02327746741155, 'KNN': 73.69646182495345, 'Decision Tree': 97.27653631284916, 'Logistic Regression': 85.63780260707635, 'Random Forest': 97.76536312849163}\n"
          ]
        }
      ]
    },
    {
      "cell_type": "code",
      "source": [
        "import matplotlib.pyplot as plt\n",
        "\n",
        "# Extract the model names and their corresponding accuracy\n",
        "model_names = list(results.keys())\n",
        "accuracy_scores = list(results.values())\n",
        "\n",
        "# Create a bar plot\n",
        "plt.figure(figsize=(8, 6))\n",
        "plt.bar(model_names, accuracy_scores, color='blue')\n",
        "\n",
        "# Add titles and labels\n",
        "plt.title('Machine Classifier Accuracy', fontsize=16)\n",
        "plt.xlabel('Classifiers', fontsize=10)\n",
        "plt.ylabel('Accuracy', fontsize=10)\n",
        "\n",
        "# Show the values on top of the bars\n",
        "for i, v in enumerate(accuracy_scores):\n",
        "    plt.text(i, v + 0.5, f\"{v:.1f}%\", ha='center', fontsize=10)\n",
        "\n",
        "# Display the plot\n",
        "plt.show()\n"
      ],
      "metadata": {
        "colab": {
          "base_uri": "https://localhost:8080/",
          "height": 566
        },
        "id": "OW-y_5VWl80E",
        "outputId": "0552f10c-56b5-4fbb-d4db-2481d82ad5d1"
      },
      "execution_count": null,
      "outputs": [
        {
          "output_type": "display_data",
          "data": {
            "text/plain": [
              "<Figure size 800x600 with 1 Axes>"
            ],
            "image/png": "[encoded data removed]"
          },
          "metadata": {}
        }
      ]
    },
    {
      "cell_type": "code",
      "source": [
        "pip install imbalanced-learn"
      ],
      "metadata": {
        "colab": {
          "base_uri": "https://localhost:8080/"
        },
        "id": "GPiOav7in6Az",
        "outputId": "c49689c9-7014-4752-f0e7-220a6b703dd4"
      },
      "execution_count": null,
      "outputs": [
        {
          "output_type": "stream",
          "name": "stdout",
          "text": [
            "Requirement already satisfied: imbalanced-learn in /usr/local/lib/python3.10/dist-packages (0.12.3)\n",
            "Requirement already satisfied: numpy>=1.17.3 in /usr/local/lib/python3.10/dist-packages (from imbalanced-learn) (1.26.4)\n",
            "Requirement already satisfied: scipy>=1.5.0 in /usr/local/lib/python3.10/dist-packages (from imbalanced-learn) (1.13.1)\n",
            "Requirement already satisfied: scikit-learn>=1.0.2 in /usr/local/lib/python3.10/dist-packages (from imbalanced-learn) (1.3.2)\n",
            "Requirement already satisfied: joblib>=1.1.1 in /usr/local/lib/python3.10/dist-packages (from imbalanced-learn) (1.4.2)\n",
            "Requirement already satisfied: threadpoolctl>=2.0.0 in /usr/local/lib/python3.10/dist-packages (from imbalanced-learn) (3.5.0)\n"
          ]
        }
      ]
    },
    {
      "cell_type": "code",
      "source": [
        "import pandas as pd\n",
        "from sklearn.model_selection import train_test_split\n",
        "from imblearn.over_sampling import SMOTE\n",
        "\n",
        "# Load the dataset\n",
        "df = pd.read_excel('Final_dataset.xlsx')\n",
        "\n",
        "# Exclude the first column (text) and use columns 2 to the second-to-last column for features\n",
        "X = df.iloc[:, 1:-1]  # Features (excluding the first column for text)\n",
        "y = df.iloc[:, -1]    # Labels (last column)\n",
        "\n",
        "# Split the dataset into training and testing sets\n",
        "X_train, X_test, y_train, y_test = train_test_split(X, y, test_size=0.2, random_state=42)\n",
        "\n",
        "# Apply SMOTE to handle class imbalance\n",
        "smote = SMOTE(random_state=42)\n",
        "X_train_resampled, y_train_resampled = smote.fit_resample(X_train, y_train)\n",
        "\n",
        "# Check the class distribution after SMOTE (Optional)\n",
        "print(\"Class distribution after SMOTE:\")\n",
        "print(pd.Series(y_train_resampled).value_counts())\n"
      ],
      "metadata": {
        "colab": {
          "base_uri": "https://localhost:8080/"
        },
        "id": "PCE401J4pfua",
        "outputId": "0c706e94-e3ae-4ee0-8f9e-12b1bc77bd28"
      },
      "execution_count": null,
      "outputs": [
        {
          "output_type": "stream",
          "name": "stdout",
          "text": [
            "Class distribution after SMOTE:\n",
            "Label\n",
            "1    10092\n",
            "0    10092\n",
            "Name: count, dtype: int64\n"
          ]
        }
      ]
    },
    {
      "cell_type": "code",
      "source": [
        "from sklearn.neighbors import KNeighborsClassifier\n",
        "from sklearn.naive_bayes import GaussianNB\n",
        "from sklearn.linear_model import LogisticRegression\n",
        "from sklearn.ensemble import RandomForestClassifier\n",
        "from sklearn.svm import SVC\n",
        "from sklearn.metrics import accuracy_score\n",
        "\n",
        "# Define the models\n",
        "models = {\n",
        "    'Naive Bayes': GaussianNB(),\n",
        "    'KNN': KNeighborsClassifier(),\n",
        "    'SVM': SVC(kernel='linear'),  # SVM with linear kernel\n",
        "    'Logistic Regression': LogisticRegression(max_iter=1000),\n",
        "    'Random Forest': RandomForestClassifier()\n",
        "}\n",
        "\n",
        "# Dictionary to store accuracy results\n",
        "results = {}\n",
        "\n",
        "# Train each model and calculate accuracy using the resampled training set\n",
        "for model_name, model in models.items():\n",
        "    model.fit(X_train_resampled, y_train_resampled)  # Train the model on resampled data\n",
        "    y_pred = model.predict(X_test)  # Make predictions on the original test set\n",
        "    accuracy = accuracy_score(y_test, y_pred)  # Calculate accuracy\n",
        "    results[model_name] = accuracy * 100  # Store accuracy as percentage\n",
        "\n",
        "# Print the results\n",
        "print(results)\n"
      ],
      "metadata": {
        "colab": {
          "base_uri": "https://localhost:8080/"
        },
        "id": "3IJAIhRrpmDa",
        "outputId": "4af6db75-1160-4f70-a626-6f7629f95fd8"
      },
      "execution_count": null,
      "outputs": [
        {
          "output_type": "stream",
          "name": "stderr",
          "text": [
            "/usr/local/lib/python3.10/dist-packages/sklearn/linear_model/_logistic.py:460: ConvergenceWarning: lbfgs failed to converge (status=1):\n",
            "STOP: TOTAL NO. of ITERATIONS REACHED LIMIT.\n",
            "\n",
            "Increase the number of iterations (max_iter) or scale the data as shown in:\n",
            "    https://scikit-learn.org/stable/modules/preprocessing.html\n",
            "Please also refer to the documentation for alternative solver options:\n",
            "    https://scikit-learn.org/stable/modules/linear_model.html#logistic-regression\n",
            "  n_iter_i = _check_optimize_result(\n"
          ]
        },
        {
          "output_type": "stream",
          "name": "stdout",
          "text": [
            "{'Naive Bayes': 72.18342644320298, 'KNN': 71.08938547486034, 'SVM': 84.93947858472998, 'Logistic Regression': 84.4972067039106, 'Random Forest': 98.1610800744879}\n"
          ]
        }
      ]
    },
    {
      "cell_type": "code",
      "source": [
        "import matplotlib.pyplot as plt\n",
        "\n",
        "# Extract the model names and their corresponding accuracy\n",
        "model_names = list(results.keys())\n",
        "accuracy_scores = list(results.values())\n",
        "\n",
        "# Create a bar plot\n",
        "plt.figure(figsize=(8, 6))\n",
        "plt.bar(model_names, accuracy_scores, color='skyblue')\n",
        "\n",
        "# Add titles and labels\n",
        "plt.title('Machine Classifier Accuracy', fontsize=13)\n",
        "plt.xlabel('Classifiers', fontsize=10)\n",
        "plt.ylabel('Accuracy (%)', fontsize=10)\n",
        "\n",
        "# Show the values on top of the bars\n",
        "for i, v in enumerate(accuracy_scores):\n",
        "    plt.text(i, v + 0.5, f\"{v:.1f}%\", ha='center', fontsize=10)\n",
        "\n",
        "# Display the plot\n",
        "plt.show()\n"
      ],
      "metadata": {
        "colab": {
          "base_uri": "https://localhost:8080/",
          "height": 564
        },
        "id": "jlI27o8Wp5aL",
        "outputId": "5465c2f6-9b80-4246-d8a4-1e613d727b9c"
      },
      "execution_count": null,
      "outputs": [
        {
          "output_type": "display_data",
          "data": {
            "text/plain": [
              "<Figure size 800x600 with 1 Axes>"
            ],
            "image/png": "[encoded data removed]"
          },
          "metadata": {}
        }
      ]
    }
  ],
  "metadata": {
    "colab": {
      "machine_shape": "hm",
      "provenance": [],
      "authorship_tag": "ABX9TyPeSnYPNqyUHHixeyVC6/SA",
      "include_colab_link": true
    },
    "kernelspec": {
      "display_name": "Python 3",
      "name": "python3"
    },
    "language_info": {
      "name": "python"
    }
  },
  "nbformat": 4,
  "nbformat_minor": 0
}