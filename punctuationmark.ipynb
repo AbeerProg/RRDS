{
  "nbformat": 4,
  "nbformat_minor": 0,
  "metadata": {
    "colab": {
      "provenance": [],
      "authorship_tag": "ABX9TyPwzEWzZlWBn7gDOQirpxuR",
      "include_colab_link": true
    },
    "kernelspec": {
      "name": "python3",
      "display_name": "Python 3"
    },
    "language_info": {
      "name": "python"
    }
  },
  "cells": [
    {
      "cell_type": "markdown",
      "metadata": {
        "id": "view-in-github",
        "colab_type": "text"
      },
      "source": [
        "<a href=\"https://colab.research.google.com/github/AbeerProg/RRDS/blob/main/punctuationmark.ipynb\" target=\"_parent\"><img src=\"https://colab.research.google.com/assets/colab-badge.svg\" alt=\"Open In Colab\"/></a>"
      ]
    },
    {
      "cell_type": "code",
      "source": [
        "# Step 1: Install Required Libraries\n",
        "!pip install pandas openpyxl\n"
      ],
      "metadata": {
        "colab": {
          "base_uri": "https://localhost:8080/"
        },
        "id": "Dnbx32702UoV",
        "outputId": "79ae5e2e-9e63-418a-ef98-f385dbcf9d1f"
      },
      "execution_count": null,
      "outputs": [
        {
          "output_type": "stream",
          "name": "stdout",
          "text": [
            "Requirement already satisfied: pandas in /usr/local/lib/python3.10/dist-packages (2.0.3)\n",
            "Requirement already satisfied: openpyxl in /usr/local/lib/python3.10/dist-packages (3.1.5)\n",
            "Requirement already satisfied: python-dateutil>=2.8.2 in /usr/local/lib/python3.10/dist-packages (from pandas) (2.8.2)\n",
            "Requirement already satisfied: pytz>=2020.1 in /usr/local/lib/python3.10/dist-packages (from pandas) (2023.4)\n",
            "Requirement already satisfied: tzdata>=2022.1 in /usr/local/lib/python3.10/dist-packages (from pandas) (2024.1)\n",
            "Requirement already satisfied: numpy>=1.21.0 in /usr/local/lib/python3.10/dist-packages (from pandas) (1.25.2)\n",
            "Requirement already satisfied: et-xmlfile in /usr/local/lib/python3.10/dist-packages (from openpyxl) (1.1.0)\n",
            "Requirement already satisfied: six>=1.5 in /usr/local/lib/python3.10/dist-packages (from python-dateutil>=2.8.2->pandas) (1.16.0)\n"
          ]
        }
      ]
    },
    {
      "cell_type": "code",
      "source": [
        "\n",
        "# Step 2: Load the Excel File\n",
        "import pandas as pd\n",
        "df = pd.read_excel('1.xlsx')"
      ],
      "metadata": {
        "id": "f8B4zZ8U2bK0"
      },
      "execution_count": null,
      "outputs": []
    },
    {
      "cell_type": "code",
      "source": [
        "\n",
        "\n",
        "# Step 3: Define a Function to Calculate Punctuation Ratio\n",
        "import string\n",
        "\n",
        "def punctuation_ratio(text):\n",
        "    if pd.isnull(text) or not isinstance(text, str):\n",
        "        return 0\n",
        "    total_chars = len(text)\n",
        "    punctuation_chars = sum(1 for char in text if char in string.punctuation)\n",
        "    return punctuation_chars / total_chars if total_chars > 0 else 0\n"
      ],
      "metadata": {
        "id": "fOdU5Bv52eGm"
      },
      "execution_count": null,
      "outputs": []
    },
    {
      "cell_type": "code",
      "source": [
        "import pandas as pd\n",
        "\n",
        "# Load the Excel file\n",
        "df = pd.read_excel('1.xlsx')\n",
        "\n",
        "# Display the first few rows and the column names\n",
        "print(df.head())\n",
        "print(df.columns)\n"
      ],
      "metadata": {
        "colab": {
          "base_uri": "https://localhost:8080/"
        },
        "id": "_192Gpad3BP8",
        "outputId": "63cfa433-c1ef-4fa2-fe45-d09abdc62401"
      },
      "execution_count": null,
      "outputs": [
        {
          "output_type": "stream",
          "name": "stdout",
          "text": [
            "                           text\n",
            "0           Need more munchkins\n",
            "1                Nice as always\n",
            "2            Great little place\n",
            "3      Service was exceptional!\n",
            "4  Perfect breakfast everytime.\n",
            "Index(['text'], dtype='object')\n"
          ]
        }
      ]
    },
    {
      "cell_type": "code",
      "source": [
        "import string\n",
        "\n",
        "import string\n",
        "\n",
        "# Function to calculate punctuation ratio\n",
        "def calculate_punctuation_ratio(text):\n",
        "    if pd.isna(text):  # Handle missing values\n",
        "        return 0\n",
        "    num_punctuations = sum([1 for char in text if char in string.punctuation])\n",
        "    num_characters = len(text)\n",
        "    return num_punctuations / num_characters if num_characters > 0 else 0\n",
        "\n",
        "\n",
        "# Apply the function to the text column and store the result in a new column\n",
        "df['punctuation_ratio'] = df['text'].apply(calculate_punctuation_ratio)\n",
        "\n",
        "# Display the DataFrame with the new column\n",
        "print(df.head())\n"
      ],
      "metadata": {
        "colab": {
          "base_uri": "https://localhost:8080/"
        },
        "id": "Nz_y14rT2hgy",
        "outputId": "f342be93-d01f-49ac-fc27-d307b11866b5"
      },
      "execution_count": null,
      "outputs": [
        {
          "output_type": "stream",
          "name": "stdout",
          "text": [
            "                           text  punctuation_ratio\n",
            "0           Need more munchkins           0.000000\n",
            "1                Nice as always           0.000000\n",
            "2            Great little place           0.000000\n",
            "3      Service was exceptional!           0.041667\n",
            "4  Perfect breakfast everytime.           0.035714\n"
          ]
        }
      ]
    },
    {
      "cell_type": "code",
      "source": [
        "df.to_excel('1_with_punctuation_ratio.xlsx', index=False)\n"
      ],
      "metadata": {
        "id": "ejl86uew39Yl"
      },
      "execution_count": null,
      "outputs": []
    },
    {
      "cell_type": "code",
      "source": [
        "print(df)"
      ],
      "metadata": {
        "colab": {
          "base_uri": "https://localhost:8080/"
        },
        "id": "rWmuDjDp4EgP",
        "outputId": "87917b83-e331-4cdc-962f-aaeaf19ef145"
      },
      "execution_count": null,
      "outputs": [
        {
          "output_type": "stream",
          "name": "stdout",
          "text": [
            "                                                    text  punctuation_ratio\n",
            "0                                    Need more munchkins           0.000000\n",
            "1                                         Nice as always           0.000000\n",
            "2                                     Great little place           0.000000\n",
            "3                               Service was exceptional!           0.041667\n",
            "4                           Perfect breakfast everytime.           0.035714\n",
            "...                                                  ...                ...\n",
            "25115  Flavors were all pretty good, very fresh clean...           0.042903\n",
            "25116  I usually do not make reviews unless I think i...           0.006425\n",
            "25117  TLDR in terms of Covid-19 safety and general d...           0.018015\n",
            "25118  I've ordered from this restaurant twice, and i...           0.042479\n",
            "25119  I have been working my way through the menu si...           0.039264\n",
            "\n",
            "[25120 rows x 2 columns]\n"
          ]
        }
      ]
    },
    {
      "cell_type": "code",
      "source": [
        "# Save the DataFrame to an Excel file\n",
        "df.to_excel('output.xlsx', index=False)"
      ],
      "metadata": {
        "id": "qXktkI1O4XYc"
      },
      "execution_count": null,
      "outputs": []
    }
  ]
}