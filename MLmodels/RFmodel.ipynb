{
  "nbformat": 4,
  "nbformat_minor": 0,
  "metadata": {
    "colab": {
      "provenance": [],
      "machine_shape": "hm",
      "gpuType": "L4",
      "authorship_tag": "ABX9TyPcvsOsl+TFdMrhPh2XQPOc",
      "include_colab_link": true
    },
    "kernelspec": {
      "name": "python3",
      "display_name": "Python 3"
    },
    "language_info": {
      "name": "python"
    },
    "accelerator": "GPU"
  },
  "cells": [
    {
      "cell_type": "markdown",
      "metadata": {
        "id": "view-in-github",
        "colab_type": "text"
      },
      "source": [
        "<a href=\"https://colab.research.google.com/github/AbeerProg/RRDS/blob/main/RFmodel.ipynb\" target=\"_parent\"><img src=\"https://colab.research.google.com/assets/colab-badge.svg\" alt=\"Open In Colab\"/></a>"
      ]
    },
    {
      "cell_type": "code",
      "source": [
        "\n",
        "import pandas as pd\n",
        "from collections import Counter\n",
        "from textblob import TextBlob\n",
        "import re\n",
        "\n",
        "df = pd.read_excel('datasetwithf_formodel.xlsx')\n"
      ],
      "metadata": {
        "id": "AuIgIgKaFW7a"
      },
      "execution_count": 119,
      "outputs": []
    },
    {
      "cell_type": "code",
      "source": [
        "print(df.head)"
      ],
      "metadata": {
        "id": "MLCrtNzCGLZh",
        "outputId": "7bff5ae8-f2bc-45e6-b7c4-27f916a894f7",
        "colab": {
          "base_uri": "https://localhost:8080/"
        }
      },
      "execution_count": 120,
      "outputs": [
        {
          "output_type": "stream",
          "name": "stdout",
          "text": [
            "<bound method NDFrame.head of               P        FP  WC        RW       S         G        PV   RN  LG  \\\n",
            "0      0.051873  0.069767  59  0.058824  0.9118  0.655172  0.000000   21   0   \n",
            "1      0.035088  0.000000  18  0.181818  0.7003  0.444444  0.000000   64   0   \n",
            "2      0.042857  0.000000  12  0.000000  0.8316  0.500000  0.000000   71   0   \n",
            "3      0.084507  0.000000  12  0.000000  0.8807  0.500000  0.000000  138   0   \n",
            "4      0.048077  0.200000  19  0.000000  0.7845  1.052632  0.333333    2   1   \n",
            "...         ...       ...  ..       ...     ...       ...       ...  ...  ..   \n",
            "21603  0.023529  0.125000  45  0.210526 -0.9538  0.477273  0.000000   20   1   \n",
            "21604  0.024609  0.048780  82  0.108108 -0.5106  0.509259  0.100000  120   0   \n",
            "21605  0.000000  0.000000  12  0.000000  0.0000  0.333333  0.000000  136   0   \n",
            "21606  0.010638  0.000000  16  0.000000 -0.5423  1.062500  0.000000  251   0   \n",
            "21607  0.022901  0.153846  22  0.000000  0.8779  0.545455  0.000000    8   1   \n",
            "\n",
            "       L  M  label                                       cleaned_text  \n",
            "0      4  0      0   New spot Just opened this week\\n Food is deli...  \n",
            "1      0  0      1   really good smoothies Particularly the Pitaya...  \n",
            "2      0  0      1  Great New York times  You must order onion rin...  \n",
            "3      0  0      0  Hands down Best coffee shop in Boro Park \\nGre...  \n",
            "4      2  0      1  The food was great and arrived quickly It was ...  \n",
            "...   .. ..    ...                                                ...  \n",
            "21603  0  0      0  Zero stars if I could Reporting this location ...  \n",
            "21604  0  0      0  Zero stars Rating is not for the food because ...  \n",
            "21605  1  1      0  Zero to minimal wait line if you go at off pea...  \n",
            "21606  0  0      0  Zoya working register is the slowest human bei...  \n",
            "21607  0  0      0  Zuo Zongtang chicken and broccoli beef are my ...  \n",
            "\n",
            "[21608 rows x 13 columns]>\n"
          ]
        }
      ]
    },
    {
      "cell_type": "code",
      "source": [
        "from sklearn.model_selection import train_test_split\n",
        "\n",
        "X = df[['P', 'FP', 'WC', 'RW','S','G','PV','RN','LG','L','M']]  # features\n",
        "y = df['label']\n",
        "\n",
        "X_train, X_test, y_train, y_test = train_test_split(X, y, test_size=0.2, random_state=42)\n"
      ],
      "metadata": {
        "id": "CvV-qkVMFRxP"
      },
      "execution_count": 126,
      "outputs": []
    },
    {
      "cell_type": "code",
      "source": [
        "from sklearn.ensemble import RandomForestClassifier\n",
        "from sklearn.metrics import accuracy_score, classification_report, confusion_matrix, ConfusionMatrixDisplay\n",
        "\n",
        "# Model Trainning\n",
        "model = RandomForestClassifier(random_state=42)\n",
        "model.fit(X_train, y_train)\n",
        "\n",
        "# Model Test\n",
        "y_pred = model.predict(X_test)\n",
        "\n",
        "# Evaluation\n",
        "print(\"Accuracy:\", accuracy_score(y_test, y_pred))\n",
        "print(\"Classification Report:\\n\", classification_report(y_test, y_pred))\n",
        "\n",
        "# Confusion Matrix\n",
        "cm = confusion_matrix(y_test, y_pred)\n",
        "disp = ConfusionMatrixDisplay(confusion_matrix=cm)\n",
        "disp.plot()\n",
        "import matplotlib.pyplot as plt\n",
        "plt.show()\n"
      ],
      "metadata": {
        "id": "4X8h5bmrG3HB",
        "outputId": "99fc22bc-c48c-41ff-d157-76903c30b136",
        "colab": {
          "base_uri": "https://localhost:8080/",
          "height": 643
        }
      },
      "execution_count": 122,
      "outputs": [
        {
          "output_type": "stream",
          "name": "stdout",
          "text": [
            "Accuracy: 0.9747801943544655\n",
            "Classification Report:\n",
            "               precision    recall  f1-score   support\n",
            "\n",
            "           0       0.97      0.99      0.98      2545\n",
            "           1       0.98      0.95      0.97      1777\n",
            "\n",
            "    accuracy                           0.97      4322\n",
            "   macro avg       0.98      0.97      0.97      4322\n",
            "weighted avg       0.97      0.97      0.97      4322\n",
            "\n"
          ]
        },
        {
          "output_type": "display_data",
          "data": {
            "text/plain": [
              "<Figure size 640x480 with 2 Axes>"
            ],
            "image/png": "[encoded data removed]"
          },
          "metadata": {}
        }
      ]
    }
  ]
}
